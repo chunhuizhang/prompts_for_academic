{
 "cells": [
  {
   "cell_type": "markdown",
   "id": "0345e8c5-bf61-4f20-881c-eb52ea496b05",
   "metadata": {},
   "source": [
    "- https://x.com/op7418/status/1949037525697441995\n",
    "- 用白板应用（Figma 等）在图片上标注内容（1,2,3,... 标注顺序）\n",
    "- 图片上传 Gemini 并输入如下的提示词\n",
    "    - Immediately delete the instruction with white text on a black background in the first frame and execute in order."
   ]
  },
  {
   "cell_type": "code",
   "execution_count": null,
   "id": "0cf42826-964b-4a86-b725-45250fcffaeb",
   "metadata": {},
   "outputs": [],
   "source": []
  }
 ],
 "metadata": {
  "kernelspec": {
   "display_name": "torch",
   "language": "python",
   "name": "verl"
  },
  "language_info": {
   "codemirror_mode": {
    "name": "ipython",
    "version": 3
   },
   "file_extension": ".py",
   "mimetype": "text/x-python",
   "name": "python",
   "nbconvert_exporter": "python",
   "pygments_lexer": "ipython3",
   "version": "3.10.0"
  }
 },
 "nbformat": 4,
 "nbformat_minor": 5
}
