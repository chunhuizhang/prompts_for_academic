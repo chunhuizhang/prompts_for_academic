{
 "cells": [
  {
   "cell_type": "markdown",
   "id": "574a5b9c-15a1-46f6-b53a-3b917a5a7bae",
   "metadata": {},
   "source": [
    "- style\n",
    "    - stylized（风格化的）, realistic（写时的）\n",
    "- prompts examples\n",
    "    - `remove the background,put the man in space`\n",
    "        - 去背景保持主体\n",
    "    - \"show me this scene from behind the subjects. keep the details and the lighting identical\"\n",
    "        - 切到后面；\n",
    "    - 多图：\n",
    "        - put the baseball hat on the woman\n",
    "    - 生成多图\n",
    "        - `create a 4-panel montage showing sporting moments. use the style of the reference image`\n",
    "            - 给出参考风格（reference image）\n",
    "            - 4-panel montage：四格漫画/四格拼贴画\n",
    "                - \"montage\" 可以翻译成 \"蒙太奇\"，但这通常用于电影或视频剪辑，指的是一系列快速切换的短镜头。"
   ]
  },
  {
   "cell_type": "markdown",
   "id": "bdf23b83-77c3-4340-bf51-f55aa9e85a42",
   "metadata": {},
   "source": [
    "### nano-banana"
   ]
  },
  {
   "cell_type": "markdown",
   "id": "31b03f31-f7d5-4684-b4a9-996494a0cb98",
   "metadata": {},
   "source": [
    "- image editing: 就像 long context model 精准的 attention 一样，这里考验的是其余部分的一致性；\n",
    "    - （人物）角色一致性（character consistency），maintain likeness across different contexts\n",
    "- image restoration: 图像修复"
   ]
  }
 ],
 "metadata": {
  "kernelspec": {
   "display_name": "torch",
   "language": "python",
   "name": "verl"
  },
  "language_info": {
   "codemirror_mode": {
    "name": "ipython",
    "version": 3
   },
   "file_extension": ".py",
   "mimetype": "text/x-python",
   "name": "python",
   "nbconvert_exporter": "python",
   "pygments_lexer": "ipython3",
   "version": "3.10.0"
  }
 },
 "nbformat": 4,
 "nbformat_minor": 5
}
