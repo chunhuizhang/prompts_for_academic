{
 "cells": [
  {
   "cell_type": "markdown",
   "id": "3e2c1cd3-e6bb-41cb-9f99-c287c257dbe5",
   "metadata": {},
   "source": [
    "- https://github.com/codelion/openevolve\n",
    "- https://scalingintelligence.stanford.edu/blogs/fastkernels/\n",
    "    - https://github.com/ScalingIntelligence/good-kernels"
   ]
  }
 ],
 "metadata": {
  "kernelspec": {
   "display_name": "Python 3 (ipykernel)",
   "language": "python",
   "name": "python3"
  },
  "language_info": {
   "codemirror_mode": {
    "name": "ipython",
    "version": 3
   },
   "file_extension": ".py",
   "mimetype": "text/x-python",
   "name": "python",
   "nbconvert_exporter": "python",
   "pygments_lexer": "ipython3",
   "version": "3.10.0"
  }
 },
 "nbformat": 4,
 "nbformat_minor": 5
}
