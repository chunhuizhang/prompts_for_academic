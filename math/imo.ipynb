{
 "cells": [
  {
   "cell_type": "markdown",
   "id": "3f9d2f07-6d1a-48a3-aec1-c3db32f0a797",
   "metadata": {},
   "source": [
    "https://github.com/lyang36/IMO25/blob/main/IMO25.pdf"
   ]
  },
  {
   "cell_type": "markdown",
   "id": "a8352670-1d6d-49e5-85d5-501bbb4f1f81",
   "metadata": {},
   "source": [
    "- 生成 -> 验证 -> 修正: 的迭代循环\n",
    "    - https://www.anthropic.com/engineering/building-effective-agents\n",
    "        - Evaluator-optimizer\n",
    "- 连续5次验证（对solution的验证）通过则算求解成功，连续10次重新生成（验证+修正）失败，则退出\n",
    "    - 成功的关键在于初始解是否跟正确解有较大的 overlap；"
   ]
  },
  {
   "cell_type": "markdown",
   "id": "63e1d3f4-0cdf-46b4-befa-4c3a73082b7c",
   "metadata": {},
   "source": [
    "### gemini 2.5 pro"
   ]
  },
  {
   "cell_type": "markdown",
   "id": "f515dbe8-bd4d-4a65-92c7-bf97bf5c0da6",
   "metadata": {},
   "source": [
    "- https://ai.google.dev/gemini-api/docs/thinking?hl=zh-cn\n",
    "- 关于 thinking 部分的说明\n",
    "    - https://blog.google/technology/google-deepmind/google-gemini-updates-io-2025/#developer-experience\n",
    "    - Thought summaries\n",
    "        - 2.5 Pro and Flash will now include thought summaries in the Gemini API and in Vertex AI. Thought summaries take the **model’s raw thoughts and organize them into a clear format with headers, key details and information about model actions**, like when they use tools.\n",
    "        - We hope that with a more structured, streamlined format on the model’s thinking process, developers and users will find the interactions with Gemini models easier to understand and debug.\n",
    "- role\n",
    "    - system, user, model, user, model, ...\n",
    "- ??\n",
    "    - `\"parts\": [{\"text\": correction_prompt}, {\"text\": verify}]`\n",
    "        - 刻画文本间的顺序，初衷是为了不同的模态\n",
    "    - thinking budget: 似乎控制得不严格\n",
    "        - step 2 的必要性存疑"
   ]
  },
  {
   "cell_type": "markdown",
   "id": "9acf1029-a32b-4be6-b332-1c69cb55a3c0",
   "metadata": {},
   "source": [
    "### step 1 - 2"
   ]
  },
  {
   "cell_type": "markdown",
   "id": "9c787c92-80aa-4521-89a5-c96ac95f24cf",
   "metadata": {},
   "source": [
    "- markdown 格式\n",
    "    - https://markdownlivepreview.com/\n",
    "- instruction or requirements\n",
    "    - Rigor is Paramount\n",
    "    - Honesty About Completeness（prompt 层面避免所谓的 reward hacking）\n",
    "    - Use TeX for All Mathematics\n",
    "- output format\n",
    "    - Summary \n",
    "        - a. Verdict => 后续做分支判断\n",
    "        - b. Method Sketch\n",
    "    - Detailed Solution => 后续做 verification\n",
    "- Self-Correction Instruction"
   ]
  },
  {
   "cell_type": "markdown",
   "id": "ef2c7cf4-ec71-42c0-9910-0d2b183d9831",
   "metadata": {},
   "source": [
    "- 从 api 或者 context 的角度，step 2是接着 step 1 的对话接着回答\n",
    "    - step1：system, user, model\n",
    "    - step2: system, user, model, user, model\n",
    "  \n",
    "```python\n",
    "self_improvement_prompt = \"\"\"\n",
    "You have an opportunity to improve your solution. Please review your solution carefully. Correct errors and fill justification gaps if any. Your second round of output should strictly follow the instructions in the system prompt.\n",
    "\"\"\"\n",
    "```"
   ]
  },
  {
   "cell_type": "markdown",
   "id": "1da48686-e039-42d5-a442-cbd0b5b36a9a",
   "metadata": {},
   "source": [
    "### step 3"
   ]
  },
  {
   "cell_type": "markdown",
   "id": "201ec91d-310a-4e48-b499-427899fa551b",
   "metadata": {},
   "source": [
    "- 角色扮演\n",
    "- Core Instructions\n",
    "    -  You must act as a verifier, NOT a solver.\n",
    "    -  step-by-step check\n",
    "- How to Handle Issues in the Solution\n",
    "    - a. Critical Error:\n",
    "    - b. Justification Gap:\n",
    "-  Output Format\n",
    "    -  a. Summary\n",
    "        -  Final Verdict:\n",
    "        -  List of Findings\n",
    "            -  Location/issue: (Critical Error or Justification Gap).\n",
    "    -  b. Detailed Verification Log"
   ]
  },
  {
   "cell_type": "markdown",
   "id": "ba99e7cb-9d20-4f7e-a27d-9ba7c99d0100",
   "metadata": {},
   "source": [
    "- 在 step 2 和 step 3 中间有一步 （条件控制，langgraph 的角度，条件边，conditional edge）\n",
    "```python\n",
    "check_complete_prompt = f\"\"\"\n",
    "Is the following text claiming that the solution is complete?\n",
    "==========================================================\n",
    "\n",
    "{solution}\n",
    "\n",
    "==========================================================\n",
    "\n",
    "Response in exactly \"yes\" or \"no\". No other words.\n",
    "    \"\"\"\n",
    "```\n",
    "- 通过之后进入 verify\n",
    "- extract_detailed_solution: 提取 Detailed Solution 之后的内容\n",
    "- check correctness\n",
    "```\n",
    "Response in \"yes\" or \"no\". Is the following statement saying the solution is correct, or does not contain critical error or a major justification gap?\n",
    "```\n",
    "- if not yes\n",
    "    - extract_detailed_solution: 提取 Detailed Verification 之后的内容"
   ]
  }
 ],
 "metadata": {
  "kernelspec": {
   "display_name": "torch",
   "language": "python",
   "name": "verl"
  },
  "language_info": {
   "codemirror_mode": {
    "name": "ipython",
    "version": 3
   },
   "file_extension": ".py",
   "mimetype": "text/x-python",
   "name": "python",
   "nbconvert_exporter": "python",
   "pygments_lexer": "ipython3",
   "version": "3.10.0"
  }
 },
 "nbformat": 4,
 "nbformat_minor": 5
}
