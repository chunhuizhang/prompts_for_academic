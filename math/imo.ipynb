{
 "cells": [
  {
   "cell_type": "markdown",
   "id": "3f9d2f07-6d1a-48a3-aec1-c3db32f0a797",
   "metadata": {},
   "source": [
    "https://github.com/lyang36/IMO25/blob/main/IMO25.pdf"
   ]
  },
  {
   "cell_type": "markdown",
   "id": "a8352670-1d6d-49e5-85d5-501bbb4f1f81",
   "metadata": {},
   "source": [
    "- 生成 -> 验证 -> 修正: 的迭代循环\n",
    "- 连续5次验证（对solution的验证）通过则算求解成功，连续10次重新生成（验证+修正）失败，则退出\n",
    "    - 成功的关键在于初始解是否跟正确解有较大的 overlap；"
   ]
  },
  {
   "cell_type": "markdown",
   "id": "9acf1029-a32b-4be6-b332-1c69cb55a3c0",
   "metadata": {},
   "source": [
    "### step 1 - 2"
   ]
  },
  {
   "cell_type": "markdown",
   "id": "9c787c92-80aa-4521-89a5-c96ac95f24cf",
   "metadata": {},
   "source": [
    "- instruction or requirements\n",
    "    - Rigor is Paramount\n",
    "    - Honesty About Completeness\n",
    "- output format\n",
    "    - Summary \n",
    "        - a. Verdict\n",
    "        - b. Method Sketch\n",
    "    - Detailed Solution\n",
    "- 从 api 或者 context 的角度，step 2是接着 step 1 的对话接着回答\n",
    "    - step1：system, user, model\n",
    "    - step2: system, user, model, user, model\n",
    "  \n",
    "```python\n",
    "self_improvement_prompt = \"\"\"\n",
    "You have an opportunity to improve your solution. Please review your solution carefully. Correct errors and fill justification gaps if any. Your second round of output should strictly follow the instructions in the system prompt.\n",
    "\"\"\"\n",
    "```"
   ]
  },
  {
   "cell_type": "markdown",
   "id": "1da48686-e039-42d5-a442-cbd0b5b36a9a",
   "metadata": {},
   "source": [
    "### step 3"
   ]
  },
  {
   "cell_type": "markdown",
   "id": "201ec91d-310a-4e48-b499-427899fa551b",
   "metadata": {},
   "source": [
    "- 在 step 2 和 step 3 中间有一步\n",
    "```python\n",
    "check_complete_prompt = f\"\"\"\n",
    "Is the following text claiming that the solution is complete?\n",
    "==========================================================\n",
    "\n",
    "{solution}\n",
    "\n",
    "==========================================================\n",
    "\n",
    "Response in exactly \"yes\" or \"no\". No other words.\n",
    "    \"\"\"\n",
    "```\n",
    "- 通过之后进入 verify"
   ]
  },
  {
   "cell_type": "markdown",
   "id": "ba99e7cb-9d20-4f7e-a27d-9ba7c99d0100",
   "metadata": {},
   "source": [
    "- extract_detailed_solution: 提取 Detailed Solution 之后的内容\n",
    "- Critical Error（致命错误）vs Justification Gap（证明缺口）\n",
    "- check correctness\n",
    "```\n",
    "Response in \"yes\" or \"no\". Is the following statement saying the solution is correct, or does not contain critical error or a major justification gap?\n",
    "```\n",
    "- if not yes\n",
    "    - extract_detailed_solution: 提取 Detailed Verification 之后的内容"
   ]
  }
 ],
 "metadata": {
  "kernelspec": {
   "display_name": "torch",
   "language": "python",
   "name": "verl"
  },
  "language_info": {
   "codemirror_mode": {
    "name": "ipython",
    "version": 3
   },
   "file_extension": ".py",
   "mimetype": "text/x-python",
   "name": "python",
   "nbconvert_exporter": "python",
   "pygments_lexer": "ipython3",
   "version": "3.10.0"
  }
 },
 "nbformat": 4,
 "nbformat_minor": 5
}
