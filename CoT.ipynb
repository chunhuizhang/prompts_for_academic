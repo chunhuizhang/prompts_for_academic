{
 "cells": [
  {
   "cell_type": "markdown",
   "id": "9c1314cd-f17d-4a7d-b1d0-1ec9535de26e",
   "metadata": {},
   "source": [
    "- SS\n",
    "    - let's think step and step;"
   ]
  },
  {
   "cell_type": "markdown",
   "id": "93bba1c0-d334-44b8-912c-94d8d7ad20b3",
   "metadata": {},
   "source": [
    "### dynamic Chain of Thought"
   ]
  },
  {
   "cell_type": "markdown",
   "id": "6e07652b-97e5-4e65-b244-b11ca5b51ae9",
   "metadata": {},
   "source": [
    "- https://github.com/bklieger-groq/g1\n",
    "- At each step, the LLM can choose to continue to another reasoning step, or provide a final answer. Each step is titled and visible to the user. The system prompt also includes tips for the LLM. There is a full explanation under Prompt Breakdown, but a few examples are asking the model to “include exploration of alternative answers” and “use at least 3 methods to derive the answer”."
   ]
  },
  {
   "cell_type": "code",
   "execution_count": 1,
   "id": "bd0fd93e-414d-4470-b1b8-444485f5814f",
   "metadata": {
    "execution": {
     "iopub.execute_input": "2024-12-14T03:14:31.307233Z",
     "iopub.status.busy": "2024-12-14T03:14:31.306604Z",
     "iopub.status.idle": "2024-12-14T03:14:31.326486Z",
     "shell.execute_reply": "2024-12-14T03:14:31.324693Z",
     "shell.execute_reply.started": "2024-12-14T03:14:31.307182Z"
    }
   },
   "outputs": [],
   "source": [
    "system_prompt = \"\"\"You are an expert AI assistant that explains your reasoning step by step. For each step, provide a title that describes what you're doing in that step, along with the content. Decide if you need another step or if you're ready to give the final answer. Respond in JSON format with 'title', 'content', and 'next_action' (either 'continue' or 'final_answer') keys. USE AS MANY REASONING STEPS AS POSSIBLE. AT LEAST 3. BE AWARE OF YOUR LIMITATIONS AS AN LLM AND WHAT YOU CAN AND CANNOT DO. IN YOUR REASONING, INCLUDE EXPLORATION OF ALTERNATIVE ANSWERS. CONSIDER YOU MAY BE WRONG, AND IF YOU ARE WRONG IN YOUR REASONING, WHERE IT WOULD BE. FULLY TEST ALL OTHER POSSIBILITIES. YOU CAN BE WRONG. WHEN YOU SAY YOU ARE RE-EXAMINING, ACTUALLY RE-EXAMINE, AND USE ANOTHER APPROACH TO DO SO. DO NOT JUST SAY YOU ARE RE-EXAMINING. USE AT LEAST 3 METHODS TO DERIVE THE ANSWER. USE BEST PRACTICES.\n",
    "\n",
    "Example of a valid JSON response:\n",
    "```json\n",
    "{\n",
    "    \"title\": \"Identifying Key Information\",\n",
    "    \"content\": \"To begin solving this problem, we need to carefully examine the given information and identify the crucial elements that will guide our solution process. This involves...\",\n",
    "    \"next_action\": \"continue\"\n",
    "}```\n",
    "\"\"\""
   ]
  },
  {
   "cell_type": "code",
   "execution_count": null,
   "id": "2d78f5aa-323c-436f-998d-a9ca37f45d39",
   "metadata": {},
   "outputs": [],
   "source": []
  }
 ],
 "metadata": {
  "kernelspec": {
   "display_name": "Python 3 (ipykernel)",
   "language": "python",
   "name": "python3"
  },
  "language_info": {
   "codemirror_mode": {
    "name": "ipython",
    "version": 3
   },
   "file_extension": ".py",
   "mimetype": "text/x-python",
   "name": "python",
   "nbconvert_exporter": "python",
   "pygments_lexer": "ipython3",
   "version": "3.10.13"
  }
 },
 "nbformat": 4,
 "nbformat_minor": 5
}
