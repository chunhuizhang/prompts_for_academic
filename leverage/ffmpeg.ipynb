{
 "cells": [
  {
   "cell_type": "markdown",
   "id": "0d7dd0f7-8ac6-4fbd-a9c7-280e4fb3cd67",
   "metadata": {},
   "source": [
    "- 倍速不丢失精度\n",
    "\n",
    "```\n",
    "ffmpeg -i \"录屏2025-09-07 17.04.05.mov\" \\\n",
    "-c:v h264_videotoolbox \\\n",
    "-filter_complex \"[0:v]setpts=PTS/1.1[v];[0:a]atempo=1.1[a]\" \\\n",
    "-map \"[v]\" -map \"[a]\" \\\n",
    "output_fast.mov\n",
    "```"
   ]
  },
  {
   "cell_type": "markdown",
   "id": "12887ac4-1d0b-4c02-8e12-00799e49a4b1",
   "metadata": {},
   "source": [
    "### basics"
   ]
  },
  {
   "cell_type": "markdown",
   "id": "b376b21e-7108-4aff-8e32-59653cdca778",
   "metadata": {},
   "source": [
    "- `-i`: input\n",
    "- `-vn`：video no\n",
    "- `-c:a copy`: 这是核心参数。-c:a 是 -codec:audio 的缩写，表示指定音频编码器。copy 则表示直接复制，不进行重新编码。\n",
    "- `-q:a 0`: 这是 LAME 编码器的**可变比特率（VBR）**质量设置。-q:a 是 -qscale:audio 的缩写。"
   ]
  },
  {
   "cell_type": "markdown",
   "id": "27e4d0ff-7c74-4a4f-955e-029d11d0994f",
   "metadata": {},
   "source": [
    "```sh\n",
    "ffmpeg -i input.mp4\n",
    "\n",
    "# 原始音频就是 MP3 (真正的无损提取)\n",
    "ffmpeg -i input.mp4 -vn -c:a copy output.mp3\n",
    "\n",
    "# 原始音频不是 MP3 (最高质量的转码)\n",
    "ffmpeg -i input.mp4 -vn -q:a 0 output.mp3\n",
    "```"
   ]
  }
 ],
 "metadata": {
  "kernelspec": {
   "display_name": "torch",
   "language": "python",
   "name": "verl"
  },
  "language_info": {
   "codemirror_mode": {
    "name": "ipython",
    "version": 3
   },
   "file_extension": ".py",
   "mimetype": "text/x-python",
   "name": "python",
   "nbconvert_exporter": "python",
   "pygments_lexer": "ipython3",
   "version": "3.10.0"
  }
 },
 "nbformat": 4,
 "nbformat_minor": 5
}
