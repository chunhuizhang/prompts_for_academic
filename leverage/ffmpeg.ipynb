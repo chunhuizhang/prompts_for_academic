{
 "cells": [
  {
   "cell_type": "markdown",
   "id": "0d7dd0f7-8ac6-4fbd-a9c7-280e4fb3cd67",
   "metadata": {},
   "source": [
    "- 倍速不丢失精度\n",
    "\n",
    "```\n",
    "ffmpeg -i \"录屏2025-09-07 17.04.05.mov\" \\\n",
    "-c:v h264_videotoolbox \\\n",
    "-filter_complex \"[0:v]setpts=PTS/1.1[v];[0:a]atempo=1.1[a]\" \\\n",
    "-map \"[v]\" -map \"[a]\" \\\n",
    "output_fast.mov\n",
    "```"
   ]
  }
 ],
 "metadata": {
  "kernelspec": {
   "display_name": "torch",
   "language": "python",
   "name": "verl"
  },
  "language_info": {
   "codemirror_mode": {
    "name": "ipython",
    "version": 3
   },
   "file_extension": ".py",
   "mimetype": "text/x-python",
   "name": "python",
   "nbconvert_exporter": "python",
   "pygments_lexer": "ipython3",
   "version": "3.10.0"
  }
 },
 "nbformat": 4,
 "nbformat_minor": 5
}
