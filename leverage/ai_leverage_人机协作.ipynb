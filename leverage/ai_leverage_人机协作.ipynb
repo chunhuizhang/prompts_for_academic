{
 "cells": [
  {
   "cell_type": "markdown",
   "id": "344b6d6d-e087-40b8-8160-75b0142816a8",
   "metadata": {},
   "source": [
    "- 保持好奇心，问出好问题。\n",
    "- 输入 => process => 输出\n",
    "    - 不要无脑接受输出；"
   ]
  },
  {
   "cell_type": "markdown",
   "id": "3655b8f9-b760-4fb7-b365-211ff8b72081",
   "metadata": {},
   "source": [
    "### 自媒体"
   ]
  },
  {
   "cell_type": "markdown",
   "id": "348d10f4-5974-4b7a-8080-cedc78b6c2cc",
   "metadata": {},
   "source": [
    "- 字幕\n",
    "    - gemini 转录 mp3 音频\n",
    "        - `在理解全文原意的基础上，识别并纠正语音转文字的错误，使用简体中文输出，每一行不超过25个字，换行时每一行要做到自然不突兀，去除所有标点符号`\n",
    "        - ffmpeg：提取 video 中的 audio\n",
    "- 基于音频的整理和总结\n",
    "    - 封面制作\n",
    "- 去噪"
   ]
  }
 ],
 "metadata": {
  "kernelspec": {
   "display_name": "torch",
   "language": "python",
   "name": "verl"
  },
  "language_info": {
   "codemirror_mode": {
    "name": "ipython",
    "version": 3
   },
   "file_extension": ".py",
   "mimetype": "text/x-python",
   "name": "python",
   "nbconvert_exporter": "python",
   "pygments_lexer": "ipython3",
   "version": "3.10.0"
  }
 },
 "nbformat": 4,
 "nbformat_minor": 5
}
