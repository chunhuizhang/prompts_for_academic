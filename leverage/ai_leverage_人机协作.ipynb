{
 "cells": [
  {
   "cell_type": "markdown",
   "id": "344b6d6d-e087-40b8-8160-75b0142816a8",
   "metadata": {},
   "source": [
    "- 保持好奇心，问出好问题。\n",
    "- 输入 => process => 输出\n",
    "    - 不要无脑接受输出；"
   ]
  }
 ],
 "metadata": {
  "kernelspec": {
   "display_name": "torch",
   "language": "python",
   "name": "verl"
  },
  "language_info": {
   "codemirror_mode": {
    "name": "ipython",
    "version": 3
   },
   "file_extension": ".py",
   "mimetype": "text/x-python",
   "name": "python",
   "nbconvert_exporter": "python",
   "pygments_lexer": "ipython3",
   "version": "3.10.0"
  }
 },
 "nbformat": 4,
 "nbformat_minor": 5
}
