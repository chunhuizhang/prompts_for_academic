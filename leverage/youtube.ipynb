{
 "cells": [
  {
   "cell_type": "markdown",
   "id": "77d11501-063a-4027-80aa-be3f5fea13dc",
   "metadata": {},
   "source": [
    "```\n",
    "你将把一段 YouTube 视频重写成\"阅读版本\"，按内容主题分成若干小节；目标是让读者通过阅读就能完整理解视频讲了什么，就好像是在读一篇 Blog 版的文章一样。\n",
    "\n",
    "输出要求：\n",
    "\n",
    "1. Metadata\n",
    "- Title\n",
    "- Author\n",
    "- URL\n",
    "\n",
    "2. Overview\n",
    "用一段话点明视频的核心论题与结论。\n",
    "\n",
    "3. 按照主题来梳理\n",
    "- 每个小节都需要根据视频中的内容详细展开，让我不需要再二次查看视频了解详情，每个小节不少于 500 字。\n",
    "- 若出现方法/框架/流程，将其重写为条理清晰的步骤或段落。\n",
    "- 若有关键数字、定义、原话，请如实保留核心词，并在括号内补充注释。\n",
    "\n",
    "4. 框架 & 心智模型（Framework & Mindset）\n",
    "可以从视频中抽象出什么 framework & mindset，将其重写为条理清晰的步骤或段落，每个 framework & mindset 不少于 500 字。\n",
    "\n",
    "风格与限制：\n",
    "- 永远不要高度浓缩！\n",
    "- 不新增事实；若出现含混表述，请保持原意并注明不确定性。\n",
    "- 专有名词保留原文，并在括号给出中文释义（若转录中出现或能直译）。\n",
    "- 要求类的问题不用体现出来（例如 > 500 字）。\n",
    "- 避免一个段落的内容过多，可以拆解成多个逻辑段落（使用 bullet points）。\n",
    "```"
   ]
  }
 ],
 "metadata": {
  "kernelspec": {
   "display_name": "torch",
   "language": "python",
   "name": "verl"
  },
  "language_info": {
   "codemirror_mode": {
    "name": "ipython",
    "version": 3
   },
   "file_extension": ".py",
   "mimetype": "text/x-python",
   "name": "python",
   "nbconvert_exporter": "python",
   "pygments_lexer": "ipython3",
   "version": "3.10.0"
  }
 },
 "nbformat": 4,
 "nbformat_minor": 5
}
