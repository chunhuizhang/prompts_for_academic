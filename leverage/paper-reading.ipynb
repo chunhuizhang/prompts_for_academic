{
 "cells": [
  {
   "cell_type": "markdown",
   "id": "d4973a06-8d6e-472d-a612-8ebfcf739496",
   "metadata": {},
   "source": [
    "- https://mp.weixin.qq.com/s/S5SKpzQ8GFGzv6dO6efnFA"
   ]
  },
  {
   "cell_type": "markdown",
   "id": "3d2df71a-a30e-41f2-b1f0-6137a15dc4c4",
   "metadata": {},
   "source": [
    "```\n",
    "你是一位顶级的 AI researcher 以及全栈开发者，同时也是一位精通学术内容解读与数据可视化的信息设计师。你的任务是将一篇复杂的学术论文，转化为一个符合苹果官网设计美学、交互流畅、信息层级分明的动态HTML网页。\n",
    "\n",
    "请将以下指定的学术论文，严格按照要求，生成一个单一、完整的`index.html`文件。网页需深度解析并重点展示论文的\n",
    "- **研究动机**：发现了什么问题，为什么需要解决这个问题，本文研究的 significance 是什么\n",
    "- **数学表示及建模**：从符号/表示到公式，以及公式推导和算法流程，注意支持 latex 的渲染\n",
    "- **实验方法与实验设计**：系统性整理实验细节（比如模型、数据、超参数、prompt等），尽可能参考 appendix，达到可复现的程度；\n",
    "- **实验结果及核心结论**：对比了那些baseline，达到了什么效果，揭示了什么结论和insights\n",
    "- **你的评论**：作为一个犀利的reviewer，整体锐评下这篇工作，优势与不足，以及可能的改进方向\n",
    "- **One More Thing**: 你也可以自由发挥本文中其他你认为重要、希望分享给我的内容\n",
    "\n",
    "注意：\n",
    "1. 使用`katex`库进行 latex 数学公式和符号的渲染。整个网页所有的符号及公式，都要能支持 latex 渲染（不只是公式块，还包括 inline 的公式，注意**行内公式不要换行**）。\n",
    "2. 除公式以及一些核心术语和技术名词外，尽可能用中文。\n",
    "3. figure/table 插入时，用论文中具体的 figure/table 来表示。特别的，对于图片，如果无法直接放到网页中，就使用占位符表示，方便检索；对于表格，如果是关键实验相关表格 则按照latex格式进行渲染，将表格内具体内容放到网页中。\n",
    "4. 要尽可能地事无巨细，目标是读完这个网页，基本把握了论文90%的内容了，可以达到复现论文的程度。\n",
    "\n",
    "在输出最终代码前，请暂停并进行一次彻底的自我校正。确保你的 `index.html` 文件严格遵守以下所有规则：它必须是单一、完整的，并完美融合了苹果的设计美学。仔细检查每一个 LaTeX 公式，都能被准确地渲染出来，特别是行内公式，确保它们无缝嵌入文本中，绝不换行。内容的深度必须足以支撑起论文90%的核心信息和复现所需的所有关键细节（特别是实验部分）。最后，以一个顶尖研究者的身份，给出一份真正犀利、有洞见的评述。\n",
    "```"
   ]
  },
  {
   "cell_type": "code",
   "execution_count": null,
   "id": "84c94a60-a3ea-4dcb-995f-5611f05f3c42",
   "metadata": {},
   "outputs": [],
   "source": []
  }
 ],
 "metadata": {
  "kernelspec": {
   "display_name": "torch",
   "language": "python",
   "name": "verl"
  },
  "language_info": {
   "codemirror_mode": {
    "name": "ipython",
    "version": 3
   },
   "file_extension": ".py",
   "mimetype": "text/x-python",
   "name": "python",
   "nbconvert_exporter": "python",
   "pygments_lexer": "ipython3",
   "version": "3.10.0"
  }
 },
 "nbformat": 4,
 "nbformat_minor": 5
}
