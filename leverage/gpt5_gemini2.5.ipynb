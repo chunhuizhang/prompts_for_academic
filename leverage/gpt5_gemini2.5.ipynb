{
 "cells": [
  {
   "cell_type": "markdown",
   "id": "d8fe4b27-72f6-493b-b339-9c7c07665005",
   "metadata": {},
   "source": [
    "- 二者互为补充，也交叉验证\n",
    "    - 甚至可以组一个 actor-critic workflow，可能要确认的是谁做 generation 谁做 reflection"
   ]
  },
  {
   "cell_type": "markdown",
   "id": "81f61239-bf76-49c5-aaea-6046416c8e77",
   "metadata": {},
   "source": [
    "### gemini special"
   ]
  },
  {
   "cell_type": "markdown",
   "id": "cbd9ab5a-c4d1-43ac-9dfa-9335bcf39b49",
   "metadata": {},
   "source": [
    "- audio\n",
    "    - transcribe\n",
    "        - https://github.com/olimiemma/Gemini-2.5-Pro-for-Audio-Transcription\n",
    "\n",
    "```\n",
    "Please transcribe the audio and indicate speaker turns.\n",
    "\n",
    "From minute 5:00 to minute 10:00:\n",
    "Speaker A is Alice\n",
    "Speaker B is Bob\n",
    "```"
   ]
  }
 ],
 "metadata": {
  "kernelspec": {
   "display_name": "Python 3 (ipykernel)",
   "language": "python",
   "name": "python3"
  },
  "language_info": {
   "codemirror_mode": {
    "name": "ipython",
    "version": 3
   },
   "file_extension": ".py",
   "mimetype": "text/x-python",
   "name": "python",
   "nbconvert_exporter": "python",
   "pygments_lexer": "ipython3",
   "version": "3.13.5"
  }
 },
 "nbformat": 4,
 "nbformat_minor": 5
}
