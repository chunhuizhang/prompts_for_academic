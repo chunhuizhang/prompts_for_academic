{
 "cells": [
  {
   "cell_type": "markdown",
   "id": "19fd4fb2-3ddb-4233-b852-1a04b7d85e67",
   "metadata": {},
   "source": [
    "- 字幕\n",
    "    - gemini 转录 mp3 音频\n",
    "        - `在理解全文原意的基础上，识别并纠正语音转文字的错误，使用简体中文输出，每一行不超过25个字，换行时每一行要做到自然不突兀，去除所有标点符号`\n",
    "        - ffmpeg：提取 video 中的 audio\n",
    "- 基于音频的整理和总结\n",
    "    - 封面制作\n",
    "- 去噪"
   ]
  },
  {
   "cell_type": "markdown",
   "id": "072b9070-9e54-483a-b9bd-391a334b3eec",
   "metadata": {},
   "source": [
    "### ffmpeg"
   ]
  },
  {
   "cell_type": "markdown",
   "id": "f8118947-f772-44ac-95a7-a5c57fbcb534",
   "metadata": {},
   "source": [
    "- `-i`: input\n",
    "- `-vn`：video no\n",
    "- `-c:a copy`: 这是核心参数。-c:a 是 -codec:audio 的缩写，表示指定音频编码器。copy 则表示直接复制，不进行重新编码。\n",
    "- `-q:a 0`: 这是 LAME 编码器的**可变比特率（VBR）**质量设置。-q:a 是 -qscale:audio 的缩写。"
   ]
  },
  {
   "cell_type": "markdown",
   "id": "a8424a56-234f-4e80-ac1c-dfb1d8ec7088",
   "metadata": {},
   "source": [
    "```sh\n",
    "ffmpeg -i input.mp4\n",
    "\n",
    "# 原始音频就是 MP3 (真正的无损提取)\n",
    "ffmpeg -i input.mp4 -vn -c:a copy output.mp3\n",
    "\n",
    "# 原始音频不是 MP3 (最高质量的转码)\n",
    "ffmpeg -i input.mp4 -vn -q:a 0 output.mp3\n",
    "```"
   ]
  }
 ],
 "metadata": {
  "kernelspec": {
   "display_name": "torch",
   "language": "python",
   "name": "verl"
  },
  "language_info": {
   "codemirror_mode": {
    "name": "ipython",
    "version": 3
   },
   "file_extension": ".py",
   "mimetype": "text/x-python",
   "name": "python",
   "nbconvert_exporter": "python",
   "pygments_lexer": "ipython3",
   "version": "3.10.0"
  }
 },
 "nbformat": 4,
 "nbformat_minor": 5
}
