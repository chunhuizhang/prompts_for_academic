{
 "cells": [
  {
   "cell_type": "markdown",
   "id": "19fd4fb2-3ddb-4233-b852-1a04b7d85e67",
   "metadata": {},
   "source": [
    "- 字幕\n",
    "    - gemini 转录 mp3 音频\n",
    "        - `在理解全文原意的基础上，纠正语音转文字的错误，使用简体中文输出，每一行不超过25个字，换行时每一行要做到自然不突兀，去除所有标点符号`\n",
    "- 基于音频的整理和总结\n",
    "    - 封面制作\n",
    "- 去噪"
   ]
  }
 ],
 "metadata": {
  "kernelspec": {
   "display_name": "torch",
   "language": "python",
   "name": "verl"
  },
  "language_info": {
   "codemirror_mode": {
    "name": "ipython",
    "version": 3
   },
   "file_extension": ".py",
   "mimetype": "text/x-python",
   "name": "python",
   "nbconvert_exporter": "python",
   "pygments_lexer": "ipython3",
   "version": "3.10.0"
  }
 },
 "nbformat": 4,
 "nbformat_minor": 5
}
