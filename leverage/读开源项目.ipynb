{
 "cells": [
  {
   "cell_type": "markdown",
   "id": "d8304a9a-fb85-4de6-a74c-fec15bdce946",
   "metadata": {},
   "source": [
    "- top-down，自顶向下的去理解\n",
    "    - 前后端：各自的技术选型\n",
    "        - 前端：ts（typescript）\n",
    "        - 后端：python\n",
    "    - 然后是分模块\n",
    "- pipeline & workflow"
   ]
  }
 ],
 "metadata": {
  "kernelspec": {
   "display_name": "torch",
   "language": "python",
   "name": "verl"
  },
  "language_info": {
   "codemirror_mode": {
    "name": "ipython",
    "version": 3
   },
   "file_extension": ".py",
   "mimetype": "text/x-python",
   "name": "python",
   "nbconvert_exporter": "python",
   "pygments_lexer": "ipython3",
   "version": "3.10.0"
  }
 },
 "nbformat": 4,
 "nbformat_minor": 5
}
