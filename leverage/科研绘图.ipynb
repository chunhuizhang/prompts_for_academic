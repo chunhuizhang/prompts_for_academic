{
 "cells": [
  {
   "cell_type": "markdown",
   "id": "54e71aaf-951e-4bbd-b198-9830b56eb7c3",
   "metadata": {},
   "source": [
    "- 每天至少花一个小时探索 ai 的用法，围绕自己的工作科研或者生活场景；\n",
    "    - 工欲善其事，必先利其器；\n",
    "    - 真正地提升效率； \n",
    "- 科研绘图\n",
    "    - possible illustrations\n",
    "    - teaser/poster\n",
    "- nano banana 与 gpt imagen 也许是互补的，多抽卡，多迭代 prompts\n",
    "    - gemini 与 gpt，我目前都付费了，对于一些重要的问题（包括 deep research），我自己也都会尝试两个model都回答一遍，感知模型，选择一个更好的回答；\n",
    "- 暂时不要预期 ai 可以端到端的解决问题，提供（绘图方向）思路（理解论文）提供参考其实就已经帮大忙了；\n",
    "    - 内容，布局，配色，字体等；\n",
    "    - 大的风格\n",
    "        - nature/science\n",
    "        - 3D\n",
    "- 日常多积累一些好的论文配图（作为references）"
   ]
  },
  {
   "cell_type": "markdown",
   "id": "d0f09c77-13af-410e-af29-aa6f3d140fc9",
   "metadata": {},
   "source": [
    "### meta-prompt"
   ]
  },
  {
   "cell_type": "markdown",
   "id": "d01eaf12-580d-4432-a159-1c5cf8ea6ee0",
   "metadata": {},
   "source": [
    "- https://g.co/gemini/share/660a127e173e\n",
    "    - https://gemini.google.com/app/fa3610de647883b5\n",
    "- 帮我详细的分析这张科研绘图，从风格限定、视角构图、主体描述、背景设定、细节修饰、光影色调、质量词等方面描述这张图的内容。生成一个可以指导nanoblanana AI生成新的类似科研图片的文生图提示词。字数不超过800字，不要出现特殊符号。\n",
    "    - 给一张自己觉得好的 ref image（参考图）"
   ]
  }
 ],
 "metadata": {
  "kernelspec": {
   "display_name": "torch",
   "language": "python",
   "name": "verl"
  },
  "language_info": {
   "codemirror_mode": {
    "name": "ipython",
    "version": 3
   },
   "file_extension": ".py",
   "mimetype": "text/x-python",
   "name": "python",
   "nbconvert_exporter": "python",
   "pygments_lexer": "ipython3",
   "version": "3.10.0"
  }
 },
 "nbformat": 4,
 "nbformat_minor": 5
}
