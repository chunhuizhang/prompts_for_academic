{
 "cells": [
  {
   "cell_type": "markdown",
   "id": "cbd9ab5a-c4d1-43ac-9dfa-9335bcf39b49",
   "metadata": {},
   "source": [
    "- audio\n",
    "    - transcribe\n",
    "        - https://github.com/olimiemma/Gemini-2.5-Pro-for-Audio-Transcription\n",
    "\n",
    "```\n",
    "Please transcribe the audio and indicate speaker turns.\n",
    "\n",
    "From minute 5:00 to minute 10:00:\n",
    "Speaker A is Alice\n",
    "Speaker B is Bob\n",
    "```"
   ]
  }
 ],
 "metadata": {
  "kernelspec": {
   "display_name": "Python 3 (ipykernel)",
   "language": "python",
   "name": "python3"
  },
  "language_info": {
   "codemirror_mode": {
    "name": "ipython",
    "version": 3
   },
   "file_extension": ".py",
   "mimetype": "text/x-python",
   "name": "python",
   "nbconvert_exporter": "python",
   "pygments_lexer": "ipython3",
   "version": "3.13.5"
  }
 },
 "nbformat": 4,
 "nbformat_minor": 5
}
