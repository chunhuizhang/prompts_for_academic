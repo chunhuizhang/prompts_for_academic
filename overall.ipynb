{
 "cells": [
  {
   "cell_type": "markdown",
   "id": "b4d2f2c1-7c8f-46d8-9f7d-5115ccbeb19d",
   "metadata": {},
   "source": [
    "- 通用性和泛化性；（prompt 的通用性和泛化性，与 llm 的 planning/reasoning 能力相辅相成）\n",
    "    - 切勿 case by case，加太多 hints/shortcuts\n",
    "        - 这样补丁会越大越短，如无必要勿增实体；\n",
    "        - 这些相当于 llm reasoning 时的拐棍；\n",
    "    - 尽可能利用模型的 reasoning 能力"
   ]
  }
 ],
 "metadata": {
  "kernelspec": {
   "display_name": "torch",
   "language": "python",
   "name": "verl"
  },
  "language_info": {
   "codemirror_mode": {
    "name": "ipython",
    "version": 3
   },
   "file_extension": ".py",
   "mimetype": "text/x-python",
   "name": "python",
   "nbconvert_exporter": "python",
   "pygments_lexer": "ipython3",
   "version": "3.10.0"
  }
 },
 "nbformat": 4,
 "nbformat_minor": 5
}
