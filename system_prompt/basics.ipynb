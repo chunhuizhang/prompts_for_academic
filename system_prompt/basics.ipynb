{
 "cells": [
  {
   "cell_type": "markdown",
   "id": "0ded54d3-f235-4d3a-b253-85411c889b06",
   "metadata": {},
   "source": [
    "- system prompt 意味着业务产品逻辑；"
   ]
  },
  {
   "cell_type": "markdown",
   "id": "3c7f1dc0-13b8-4f79-9f1c-8a50b2e70c19",
   "metadata": {},
   "source": [
    "### 避免 system prompt 泄露的方案"
   ]
  },
  {
   "cell_type": "markdown",
   "id": "7d215833-936c-4bcd-92f4-d852653d59a7",
   "metadata": {},
   "source": [
    "- 使用另一个llm检查模型的输出中有没有提示词，检查用户的输入有没有威胁，无需在应用程序的系统提示词中添加防提示词注入攻击的限制"
   ]
  }
 ],
 "metadata": {
  "kernelspec": {
   "display_name": "Python 3 (ipykernel)",
   "language": "python",
   "name": "python3"
  },
  "language_info": {
   "codemirror_mode": {
    "name": "ipython",
    "version": 3
   },
   "file_extension": ".py",
   "mimetype": "text/x-python",
   "name": "python",
   "nbconvert_exporter": "python",
   "pygments_lexer": "ipython3",
   "version": "3.10.0"
  }
 },
 "nbformat": 4,
 "nbformat_minor": 5
}
