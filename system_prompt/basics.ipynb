{
 "cells": [
  {
   "cell_type": "markdown",
   "id": "0ded54d3-f235-4d3a-b253-85411c889b06",
   "metadata": {},
   "source": [
    "- system prompt 意味着业务产品逻辑；\n",
    "- system prompt as a product"
   ]
  },
  {
   "cell_type": "markdown",
   "id": "f520e276-b225-4c5a-a88f-5a0890384888",
   "metadata": {},
   "source": [
    "### when & how"
   ]
  },
  {
   "cell_type": "markdown",
   "id": "9d8a25aa-a8fe-42d9-9e2d-c86687311c2c",
   "metadata": {},
   "source": [
    "- when: 设定（llm）要扮演（role play）的角色时，用 system prompt"
   ]
  },
  {
   "cell_type": "markdown",
   "id": "9840e268-8577-4798-8b27-5bc356fb1cb8",
   "metadata": {},
   "source": [
    "### system prompts leakage"
   ]
  },
  {
   "cell_type": "markdown",
   "id": "4f81b25d-a76d-4b4a-ad57-ce0366b29428",
   "metadata": {},
   "source": [
    "- https://github.com/asgeirtj/system_prompts_leaks.git"
   ]
  },
  {
   "cell_type": "markdown",
   "id": "3c7f1dc0-13b8-4f79-9f1c-8a50b2e70c19",
   "metadata": {},
   "source": [
    "### 避免 system prompt 泄露的方案"
   ]
  },
  {
   "cell_type": "markdown",
   "id": "7d215833-936c-4bcd-92f4-d852653d59a7",
   "metadata": {},
   "source": [
    "- 使用另一个llm检查模型的输出中有没有提示词，检查用户的输入有没有威胁，无需在应用程序的系统提示词中添加防提示词注入攻击的限制"
   ]
  }
 ],
 "metadata": {
  "kernelspec": {
   "display_name": "Python 3 (ipykernel)",
   "language": "python",
   "name": "python3"
  },
  "language_info": {
   "codemirror_mode": {
    "name": "ipython",
    "version": 3
   },
   "file_extension": ".py",
   "mimetype": "text/x-python",
   "name": "python",
   "nbconvert_exporter": "python",
   "pygments_lexer": "ipython3",
   "version": "3.13.5"
  }
 },
 "nbformat": 4,
 "nbformat_minor": 5
}
