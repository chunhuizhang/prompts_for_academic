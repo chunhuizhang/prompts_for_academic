{
 "cells": [
  {
   "cell_type": "markdown",
   "id": "b9e902a0-eb7b-487d-9c74-e1f2a680451a",
   "metadata": {},
   "source": [
    "- gpt-5-thinking\n",
    "    - https://github.com/asgeirtj/system_prompts_leaks/blob/main/OpenAI/gpt-5-thinking.md"
   ]
  }
 ],
 "metadata": {
  "kernelspec": {
   "display_name": "torch",
   "language": "python",
   "name": "verl"
  },
  "language_info": {
   "codemirror_mode": {
    "name": "ipython",
    "version": 3
   },
   "file_extension": ".py",
   "mimetype": "text/x-python",
   "name": "python",
   "nbconvert_exporter": "python",
   "pygments_lexer": "ipython3",
   "version": "3.10.0"
  }
 },
 "nbformat": 4,
 "nbformat_minor": 5
}
