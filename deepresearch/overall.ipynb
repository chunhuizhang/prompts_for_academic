{
 "cells": [
  {
   "cell_type": "markdown",
   "id": "c0d30dc6-7b29-4559-90a6-e1ea24016f0a",
   "metadata": {},
   "source": [
    "- search what: queries generation\n",
    "- when to stop\n",
    "    - `鉴于已收集到足够详细且高质量的信息，我已达到信息饱和状态。` "
   ]
  }
 ],
 "metadata": {
  "kernelspec": {
   "display_name": "torch",
   "language": "python",
   "name": "verl"
  },
  "language_info": {
   "codemirror_mode": {
    "name": "ipython",
    "version": 3
   },
   "file_extension": ".py",
   "mimetype": "text/x-python",
   "name": "python",
   "nbconvert_exporter": "python",
   "pygments_lexer": "ipython3",
   "version": "3.10.0"
  }
 },
 "nbformat": 4,
 "nbformat_minor": 5
}
