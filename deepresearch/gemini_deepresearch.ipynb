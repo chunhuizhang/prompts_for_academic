{
 "cells": [
  {
   "cell_type": "markdown",
   "id": "4c633c9d-bd99-4bf7-b53f-5e66333d4d5e",
   "metadata": {},
   "source": [
    "- https://github.com/google-gemini/gemini-fullstack-langgraph-quickstart\n",
    "    - https://github.com/google-gemini/gemini-fullstack-langgraph-quickstart/blob/main/backend/src/agent/prompts.py\n",
    "- 带着问题读源码\n",
    "    - deep research 是如何实现的；\n",
    "        - agentic logic\n",
    "    - 前后端全栈设计；\n",
    "    - 多模型的经济且有效的组合；"
   ]
  },
  {
   "cell_type": "markdown",
   "id": "f14c5c6d-e66e-4803-83bb-9f9fe1dd50c8",
   "metadata": {},
   "source": [
    "### full stack"
   ]
  },
  {
   "cell_type": "markdown",
   "id": "6900ae87-6869-4ec4-845f-d4dd0fae9fa7",
   "metadata": {},
   "source": [
    "- frontend/ ：包含使用 Vite 构建的 React 应用程序。\n",
    "    - `http://localhost:5173/`\n",
    "    - 技术选型\n",
    "        - React: 一个由 Facebook 开发的库，用于构建用户界面。它的核心思想是把界面拆分成一个个独立、可复用的“组件”（Components）。\n",
    "        - Vite: 一个现代化的前端构建工具和开发服务器。它的特点是“快”，能让你在修改代码后立刻看到浏览器中的变化。\n",
    "        - TypeScript: JavaScript 的一个超集，增加了静态类型检查。如果你熟悉 Python 的类型提示（Type Hinting），可以把它理解为前端的类型提示，能帮助我们更早地发现错误。\n",
    "    - `App.tsx`\n",
    "\n",
    "```typescript\n",
    "let initial_search_query_count = 0;\n",
    "let max_research_loops = 0;\n",
    "switch (effort) {\n",
    "  case \"low\":\n",
    "    initial_search_query_count = 1;\n",
    "    max_research_loops = 1;\n",
    "    break;\n",
    "  case \"medium\":\n",
    "    initial_search_query_count = 3;\n",
    "    max_research_loops = 3;\n",
    "    break;\n",
    "  case \"high\":\n",
    "    initial_search_query_count = 5;\n",
    "    max_research_loops = 10;\n",
    "    break;\n",
    "}\n",
    "\n",
    "...\n",
    "\n",
    "\n",
    "thread.submit({\n",
    "   messages: newMessages,\n",
    "   initial_search_query_count: initial_search_query_count,\n",
    "   max_research_loops: max_research_loops,\n",
    "   reasoning_model: model,\n",
    "});\n",
    "```\n",
    "\n",
    "- backend/ ：包含 LangGraph/FastAPI 应用程序，包括 research agent logic。\n",
    "    - langgraph：state machine\n",
    "- 启动 `make dev`（`Makefile` recipes）"
   ]
  },
  {
   "cell_type": "markdown",
   "id": "4d9c962f-1165-4e07-a22e-b41b4050d099",
   "metadata": {},
   "source": [
    "```mermaid\n",
    "sequenceDiagram\n",
    "    participant User as 用户\n",
    "    participant Browser as 浏览器 (前端 @ 5173)\n",
    "    participant Backend as 后端服务 (Agent @ 2024)\n",
    "\n",
    "    User->>+Browser: 1. 打开 http://localhost:5173\n",
    "    Browser->>+Backend: 2. useStream hook 建立连接到 http://localhost:2024\n",
    "    User->>Browser: 3. 输入问题并提交\n",
    "    Browser->>Backend: 4. 发送包含问题的 API 请求 (thread.submit)\n",
    "    activate Backend\n",
    "    Note over Backend: Agent 开始处理...<br/>(生成查询, 网络搜索, 反思)\n",
    "    Backend-->>Browser: 5. [流式] 返回处理过程中的事件\n",
    "    deactivate Backend\n",
    "    Browser->>User: 6. 实时更新UI，展示Agent活动\n",
    "    activate Backend\n",
    "    Backend-->>Browser: 7. [流式] 返回最终答案\n",
    "    deactivate Backend\n",
    "    Browser->>User: 8. 展示最终答案\n",
    "```"
   ]
  },
  {
   "cell_type": "markdown",
   "id": "0059e3de-c16c-4b91-8078-713a36d53015",
   "metadata": {},
   "source": [
    "### 模型组合"
   ]
  },
  {
   "cell_type": "markdown",
   "id": "3687af6c-7c99-461c-ada3-be165d1c383d",
   "metadata": {},
   "source": [
    "- 前端表单\n",
    "    ```python\n",
    "    const [effort, setEffort] = useState(\"medium\");\n",
    "    const [model, setModel] = useState(\"gemini-2.5-flash-preview-04-17\");\n",
    "    ```\n",
    "    - gemini-2.0-flash\n",
    "    - gemini-2.5-flash-preview-04-17\n",
    "    - gemini-2.5-pro-preview-05-06\n",
    "- 后端\n",
    "    - query_generator_model：gemini-2.0-flash\n",
    "    - reflection_model：gemini-2.5-flash-preview-04-17\n",
    "    - answer_model：gemini-2.5-pro-preview-05-06"
   ]
  },
  {
   "cell_type": "markdown",
   "id": "6f0d07f5-9d4a-4b62-99d8-f29d30bf4a6b",
   "metadata": {},
   "source": [
    "### query_writer_instructions"
   ]
  },
  {
   "cell_type": "markdown",
   "id": "4d7809e3-ad57-459f-bf14-88038eb5eb06",
   "metadata": {},
   "source": [
    "- user (complex) query => single sub-queries\n",
    "- format output\n",
    "    ```python\n",
    "    - Format your response as a JSON object with ALL three of these exact keys:\n",
    "       - \"rationale\": Brief explanation of why these queries are relevant\n",
    "       - \"query\": A list of search queries\n",
    "    ```\n",
    "- ice (in-context eamples)\n",
    "```\n",
    "Topic: What revenue grew more last year apple stock or the number of people buying an iphone\n",
    "```json\n",
    "{{\n",
    "    \"rationale\": \"To answer this comparative growth question accurately, we need specific data points on Apple's stock performance and iPhone sales metrics. These queries target the precise financial information needed: company revenue trends, product-specific unit sales figures, and stock price movement over the same fiscal period for direct comparison.\",\n",
    "    \"query\": [\"Apple total revenue growth fiscal year 2024\", \"iPhone unit sales growth fiscal year 2024\", \"Apple stock price growth fiscal year 2024\"],\n",
    "}}\n",
    "```\n",
    "```"
   ]
  },
  {
   "cell_type": "markdown",
   "id": "51bf74e7-0706-4320-9638-e21708f5104a",
   "metadata": {},
   "source": [
    "### langgraph"
   ]
  },
  {
   "cell_type": "markdown",
   "id": "92b4d44e-64d0-40a1-b53b-a672bd28f403",
   "metadata": {},
   "source": [
    "### tools"
   ]
  },
  {
   "cell_type": "markdown",
   "id": "4226fc1f-5ded-48ef-8439-3d872b28dd38",
   "metadata": {},
   "source": [
    "```python\n",
    "response = genai_client.models.generate_content(\n",
    "    model=configurable.query_generator_model,\n",
    "    contents=formatted_prompt,\n",
    "    config={\n",
    "        \"tools\": [{\"google_search\": {}}],\n",
    "        \"temperature\": 0,\n",
    "    },\n",
    ")\n",
    "```"
   ]
  },
  {
   "cell_type": "markdown",
   "id": "012f0690-9df4-46d5-9cb5-8168b81907ae",
   "metadata": {},
   "source": [
    "### citation"
   ]
  },
  {
   "cell_type": "code",
   "execution_count": null,
   "id": "02a17174-99e1-4931-ae4b-2d24e99752b0",
   "metadata": {},
   "outputs": [],
   "source": []
  }
 ],
 "metadata": {
  "kernelspec": {
   "display_name": "Python 3 (ipykernel)",
   "language": "python",
   "name": "python3"
  },
  "language_info": {
   "codemirror_mode": {
    "name": "ipython",
    "version": 3
   },
   "file_extension": ".py",
   "mimetype": "text/x-python",
   "name": "python",
   "nbconvert_exporter": "python",
   "pygments_lexer": "ipython3",
   "version": "3.10.0"
  }
 },
 "nbformat": 4,
 "nbformat_minor": 5
}
