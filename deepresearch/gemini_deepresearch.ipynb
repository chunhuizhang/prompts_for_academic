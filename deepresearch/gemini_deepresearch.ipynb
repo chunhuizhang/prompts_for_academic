{
 "cells": [
  {
   "cell_type": "markdown",
   "id": "4c633c9d-bd99-4bf7-b53f-5e66333d4d5e",
   "metadata": {},
   "source": [
    "- https://github.com/google-gemini/gemini-fullstack-langgraph-quickstart\n",
    "    - https://github.com/google-gemini/gemini-fullstack-langgraph-quickstart/blob/main/backend/src/agent/prompts.py"
   ]
  },
  {
   "cell_type": "markdown",
   "id": "f14c5c6d-e66e-4803-83bb-9f9fe1dd50c8",
   "metadata": {},
   "source": [
    "### full stack"
   ]
  },
  {
   "cell_type": "markdown",
   "id": "6900ae87-6869-4ec4-845f-d4dd0fae9fa7",
   "metadata": {},
   "source": [
    "- frontend/ ：包含使用 Vite 构建的 React 应用程序。\n",
    "    - `http://localhost:5173/`\n",
    "- backend/ ：包含 LangGraph/FastAPI 应用程序，包括 research agent logic。"
   ]
  },
  {
   "cell_type": "markdown",
   "id": "4d9c962f-1165-4e07-a22e-b41b4050d099",
   "metadata": {},
   "source": [
    "```mermaid\n",
    "sequenceDiagram\n",
    "    participant User as 用户\n",
    "    participant Browser as 浏览器 (前端 @ 5173)\n",
    "    participant Backend as 后端服务 (Agent @ 2024)\n",
    "\n",
    "    User->>+Browser: 1. 打开 http://localhost:5173\n",
    "    Browser->>+Backend: 2. useStream hook 建立连接到 http://localhost:2024\n",
    "    User->>Browser: 3. 输入问题并提交\n",
    "    Browser->>Backend: 4. 发送包含问题的 API 请求 (thread.submit)\n",
    "    activate Backend\n",
    "    Note over Backend: Agent 开始处理...<br/>(生成查询, 网络搜索, 反思)\n",
    "    Backend-->>Browser: 5. [流式] 返回处理过程中的事件\n",
    "    deactivate Backend\n",
    "    Browser->>User: 6. 实时更新UI，展示Agent活动\n",
    "    activate Backend\n",
    "    Backend-->>Browser: 7. [流式] 返回最终答案\n",
    "    deactivate Backend\n",
    "    Browser->>User: 8. 展示最终答案\n",
    "```"
   ]
  },
  {
   "cell_type": "markdown",
   "id": "0059e3de-c16c-4b91-8078-713a36d53015",
   "metadata": {},
   "source": [
    "### 模型组合"
   ]
  },
  {
   "cell_type": "markdown",
   "id": "3687af6c-7c99-461c-ada3-be165d1c383d",
   "metadata": {},
   "source": [
    "- 前端表单\n",
    "    ```python\n",
    "    const [effort, setEffort] = useState(\"medium\");\n",
    "    const [model, setModel] = useState(\"gemini-2.5-flash-preview-04-17\");\n",
    "    ```\n",
    "- 后端\n",
    "    - query_generator_model：gemini-2.0-flash\n",
    "    - reflection_model：gemini-2.5-flash-preview-04-17\n",
    "    - answer_model：gemini-2.5-pro-preview-05-06"
   ]
  },
  {
   "cell_type": "markdown",
   "id": "6f0d07f5-9d4a-4b62-99d8-f29d30bf4a6b",
   "metadata": {},
   "source": [
    "### query_writer_instructions"
   ]
  },
  {
   "cell_type": "markdown",
   "id": "4d7809e3-ad57-459f-bf14-88038eb5eb06",
   "metadata": {},
   "source": [
    "- user (complex) query => single sub-queries\n",
    "- format output\n",
    "    ```python\n",
    "    - Format your response as a JSON object with ALL three of these exact keys:\n",
    "       - \"rationale\": Brief explanation of why these queries are relevant\n",
    "       - \"query\": A list of search queries\n",
    "    ```\n",
    "- ice (in-context eamples)\n",
    "```\n",
    "Topic: What revenue grew more last year apple stock or the number of people buying an iphone\n",
    "```json\n",
    "{{\n",
    "    \"rationale\": \"To answer this comparative growth question accurately, we need specific data points on Apple's stock performance and iPhone sales metrics. These queries target the precise financial information needed: company revenue trends, product-specific unit sales figures, and stock price movement over the same fiscal period for direct comparison.\",\n",
    "    \"query\": [\"Apple total revenue growth fiscal year 2024\", \"iPhone unit sales growth fiscal year 2024\", \"Apple stock price growth fiscal year 2024\"],\n",
    "}}\n",
    "```\n",
    "```"
   ]
  },
  {
   "cell_type": "markdown",
   "id": "92b4d44e-64d0-40a1-b53b-a672bd28f403",
   "metadata": {},
   "source": [
    "### tools"
   ]
  },
  {
   "cell_type": "markdown",
   "id": "4226fc1f-5ded-48ef-8439-3d872b28dd38",
   "metadata": {},
   "source": [
    "```python\n",
    "response = genai_client.models.generate_content(\n",
    "    model=configurable.query_generator_model,\n",
    "    contents=formatted_prompt,\n",
    "    config={\n",
    "        \"tools\": [{\"google_search\": {}}],\n",
    "        \"temperature\": 0,\n",
    "    },\n",
    ")\n",
    "```"
   ]
  }
 ],
 "metadata": {
  "kernelspec": {
   "display_name": "Python 3 (ipykernel)",
   "language": "python",
   "name": "python3"
  },
  "language_info": {
   "codemirror_mode": {
    "name": "ipython",
    "version": 3
   },
   "file_extension": ".py",
   "mimetype": "text/x-python",
   "name": "python",
   "nbconvert_exporter": "python",
   "pygments_lexer": "ipython3",
   "version": "3.10.0"
  }
 },
 "nbformat": 4,
 "nbformat_minor": 5
}
