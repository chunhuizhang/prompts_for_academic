{
 "cells": [
  {
   "cell_type": "markdown",
   "id": "e06af912-c18e-413c-8745-637e124170e6",
   "metadata": {},
   "source": [
    "- https://www.anthropic.com/engineering/built-multi-agent-research-system\n",
    "    - https://www.youtube.com/watch?v=os5Qxk9tfr0\n",
    "- https://langchain-ai.github.io/langgraph/how-tos/multi_agent/\n",
    "    - https://langchain-ai.github.io/langgraph/agents/multi-agent/"
   ]
  },
  {
   "cell_type": "code",
   "execution_count": 1,
   "id": "3f5e9f0b-e336-4105-8b24-a64576b39585",
   "metadata": {},
   "outputs": [],
   "source": [
    "from IPython.display import Image"
   ]
  },
  {
   "cell_type": "markdown",
   "id": "bab13562-9281-48d8-b6a1-6dbac9ea26af",
   "metadata": {},
   "source": [
    "- A multi-agent system consists of multiple agents (LLMs autonomously using tools in a loop) working together.\n",
    "- Research work involves open-ended problems where it’s very difficult to **predict the required steps in advance**. You can’t hardcode a fixed path for exploring complex topics, as the process is inherently dynamic and path-dependent. \n",
    "- The essence of search is compression: **distilling insights from a vast corpus**. \n",
    "    - Each subagent also provides **separation of concerns**—distinct tools, prompts, and exploration trajectories—which reduces path dependency and enables thorough, independent investigations.\n",
    "- Our internal evaluations show that multi-agent research systems excel especially for **breadth-first queries** that involve pursuing multiple independent directions simultaneously.\n",
    "    - We found that a multi-agent system with **Claude Opus 4 as the lead agent** and **Claude Sonnet 4 subagents** outperformed single-agent Claude Opus 4 by 90.2% on our internal research eval.\n",
    "    - Multi-agent systems work mainly because they help **spend enough tokens** to solve the problem.\n",
    "- 效率与经济"
   ]
  },
  {
   "cell_type": "code",
   "execution_count": 2,
   "id": "fda973db-3872-44da-a68d-35ae8bd6d1f8",
   "metadata": {},
   "outputs": [
    {
     "data": {
      "text/html": [
       "<img src=\"https://www.anthropic.com/_next/image?url=https%3A%2F%2Fwww-cdn.anthropic.com%2Fimages%2F4zrzovbb%2Fwebsite%2F1198befc0b33726c45692ac40f764022f4de1bf2-4584x2579.png&w=3840&q=75\" width=\"500\"/>"
      ],
      "text/plain": [
       "<IPython.core.display.Image object>"
      ]
     },
     "execution_count": 2,
     "metadata": {},
     "output_type": "execute_result"
    }
   ],
   "source": [
    "Image(url='https://www.anthropic.com/_next/image?url=https%3A%2F%2Fwww-cdn.anthropic.com%2Fimages%2F4zrzovbb%2Fwebsite%2F1198befc0b33726c45692ac40f764022f4de1bf2-4584x2579.png&w=3840&q=75', width=500)"
   ]
  },
  {
   "cell_type": "markdown",
   "id": "380c3e32-7b1c-4d5a-a05e-ebf0cfb44777",
   "metadata": {},
   "source": [
    "### principles we learned for prompting agents"
   ]
  },
  {
   "cell_type": "markdown",
   "id": "5e39f04f-53c6-471c-a046-889531afcc1f",
   "metadata": {},
   "source": [
    "- Think like your agents\n",
    "- Teach the orchestrator how to delegate.\n",
    "- Scale effort to query complexity.\n",
    "- Tool design and selection are critical."
   ]
  }
 ],
 "metadata": {
  "kernelspec": {
   "display_name": "Python 3 (ipykernel)",
   "language": "python",
   "name": "python3"
  },
  "language_info": {
   "codemirror_mode": {
    "name": "ipython",
    "version": 3
   },
   "file_extension": ".py",
   "mimetype": "text/x-python",
   "name": "python",
   "nbconvert_exporter": "python",
   "pygments_lexer": "ipython3",
   "version": "3.10.0"
  }
 },
 "nbformat": 4,
 "nbformat_minor": 5
}
