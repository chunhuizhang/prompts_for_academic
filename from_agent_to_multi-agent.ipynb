{
 "cells": [
  {
   "cell_type": "markdown",
   "id": "ef550691-ab29-4352-a37b-ae9511c6fa44",
   "metadata": {},
   "source": [
    "- manus context engineering\n",
    "    - https://manus.im/zh-cn/blog/Context-Engineering-for-AI-Agents-Lessons-from-Building-Manus\n",
    "        - 预填充和解码 (prefill vs. decoding)\n",
    "        - 响应预填充 (response prefill)"
   ]
  },
  {
   "cell_type": "markdown",
   "id": "df5fa940-6843-4904-a496-367e0ddea03f",
   "metadata": {},
   "source": [
    "### agent"
   ]
  },
  {
   "cell_type": "markdown",
   "id": "16f63889-f32a-4def-adc3-e52fe6edaf36",
   "metadata": {},
   "source": [
    "- agent workflow 本质上是 dataflow，或者 message flow\n",
    "    - agent 即 message（chat history）或者现在流行的 context 管理"
   ]
  },
  {
   "cell_type": "markdown",
   "id": "0464aa36-48a8-4a97-b566-5e55040c21d7",
   "metadata": {},
   "source": [
    "### multi-agent"
   ]
  },
  {
   "cell_type": "markdown",
   "id": "8475e073-96e9-409f-9dbc-9e68d636be76",
   "metadata": {},
   "source": [
    "- multi-agent 不是用来做角色扮演，而是分工协同；\n",
    "    - separation of concern：关注点分离\n",
    "- 技术上\n",
    "    - 共享上下文，or 独享上下文"
   ]
  }
 ],
 "metadata": {
  "kernelspec": {
   "display_name": "torch",
   "language": "python",
   "name": "verl"
  },
  "language_info": {
   "codemirror_mode": {
    "name": "ipython",
    "version": 3
   },
   "file_extension": ".py",
   "mimetype": "text/x-python",
   "name": "python",
   "nbconvert_exporter": "python",
   "pygments_lexer": "ipython3",
   "version": "3.10.0"
  }
 },
 "nbformat": 4,
 "nbformat_minor": 5
}
