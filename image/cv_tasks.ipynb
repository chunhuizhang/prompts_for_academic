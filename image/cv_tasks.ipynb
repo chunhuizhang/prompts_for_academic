{
 "cells": [
  {
   "cell_type": "markdown",
   "id": "ce9f8e08-bcf4-4e58-b252-008127cd4698",
   "metadata": {},
   "source": [
    "### object detection"
   ]
  },
  {
   "cell_type": "markdown",
   "id": "dba07586-41da-411e-9a88-59f6ee510145",
   "metadata": {},
   "source": [
    "- https://github.com/john-carroll-sw/gpt-4o-object-detection-in-image-folder"
   ]
  },
  {
   "cell_type": "markdown",
   "id": "5e42cfcb-ba28-43bf-bf24-2ba323291ea4",
   "metadata": {},
   "source": [
    "```\n",
    "Given an image, identify and describe all the objects present. \n",
    "Provide a detailed description of each object, including its position in the image, apparent size, color, and any other notable features. \n",
    "Additionally, if possible, provide context about the scene or environment the objects are in. The description should be clear and concise, suitable for further processing or analysis.\n",
    "Return json.\n",
    "```"
   ]
  }
 ],
 "metadata": {
  "kernelspec": {
   "display_name": "Python 3 (ipykernel)",
   "language": "python",
   "name": "python3"
  },
  "language_info": {
   "codemirror_mode": {
    "name": "ipython",
    "version": 3
   },
   "file_extension": ".py",
   "mimetype": "text/x-python",
   "name": "python",
   "nbconvert_exporter": "python",
   "pygments_lexer": "ipython3",
   "version": "3.10.0"
  }
 },
 "nbformat": 4,
 "nbformat_minor": 5
}
