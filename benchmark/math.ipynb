{
 "cells": [
  {
   "cell_type": "markdown",
   "id": "5da5e0b9-a7c8-480a-bf50-8c6500865607",
   "metadata": {},
   "source": [
    "### aime 2025"
   ]
  },
  {
   "cell_type": "markdown",
   "id": "a2eac106-06a4-4596-be62-821edc746473",
   "metadata": {},
   "source": [
    "- https://huggingface.co/datasets/MathArena/aime_2025"
   ]
  }
 ],
 "metadata": {
  "kernelspec": {
   "display_name": "torch",
   "language": "python",
   "name": "verl"
  },
  "language_info": {
   "codemirror_mode": {
    "name": "ipython",
    "version": 3
   },
   "file_extension": ".py",
   "mimetype": "text/x-python",
   "name": "python",
   "nbconvert_exporter": "python",
   "pygments_lexer": "ipython3",
   "version": "3.10.0"
  }
 },
 "nbformat": 4,
 "nbformat_minor": 5
}
