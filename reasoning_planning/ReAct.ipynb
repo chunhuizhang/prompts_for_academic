{
 "cells": [
  {
   "cell_type": "markdown",
   "id": "2822c6f7-7970-4583-ace0-b9b5d603f265",
   "metadata": {},
   "source": [
    "```mermaid\n",
    "graph TD;\n",
    "    A[Start Task] --> B{Initialize System Prompt};\n",
    "    B --> C[Create Full Prompt: <br/> System Instructions + Tools + Examples];\n",
    "    C --> D[Add Prompt to Memory];\n",
    "    D --> E{ReAct Loop};\n",
    "    E -- Not Done --> F[Execute Step];\n",
    "    F --> G[Call Planning: Send Memory to LLM];\n",
    "    G --> H[LLM Generates <br/>Thought + Action];\n",
    "    H --> I[Execute Tool Call: Run Tool];\n",
    "    I --> J[Get Observation from Tool];\n",
    "    J --> K[Add Action + Observation to Memory];\n",
    "    K --> E;\n",
    "    E -- Done --> L[End Task];\n",
    "```"
   ]
  }
 ],
 "metadata": {
  "kernelspec": {
   "display_name": "Python 3 (ipykernel)",
   "language": "python",
   "name": "python3"
  },
  "language_info": {
   "codemirror_mode": {
    "name": "ipython",
    "version": 3
   },
   "file_extension": ".py",
   "mimetype": "text/x-python",
   "name": "python",
   "nbconvert_exporter": "python",
   "pygments_lexer": "ipython3",
   "version": "3.10.0"
  }
 },
 "nbformat": 4,
 "nbformat_minor": 5
}
