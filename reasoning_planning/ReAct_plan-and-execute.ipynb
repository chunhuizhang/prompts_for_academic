{
 "cells": [
  {
   "cell_type": "markdown",
   "id": "001912c2-ae68-42f9-8216-6ca896565b06",
   "metadata": {},
   "source": [
    "- https://dev.to/jamesli/react-vs-plan-and-execute-a-practical-comparison-of-llm-agent-patterns-4gh9"
   ]
  },
  {
   "cell_type": "markdown",
   "id": "0020d8fb-db4f-432c-bfa6-b7226d9f9f7f",
   "metadata": {},
   "source": [
    "### ReAct"
   ]
  },
  {
   "cell_type": "markdown",
   "id": "3a87853d-2eda-428b-8084-1a054f9db461",
   "metadata": {},
   "source": [
    "```python\n",
    "REACT_PROMPT = \"\"\"Answer the following questions as best you can. You have access to the following tools:\n",
    "\n",
    "{tools}\n",
    "\n",
    "Use the following format:\n",
    "\n",
    "Thought: you should always think about what to do\n",
    "Action: the action to take, should be one of [{tool_names}]\n",
    "Action Input: the input to the action\n",
    "Observation: the result of the action\n",
    "... (this Thought/Action/Action Input/Observation can repeat N times)\n",
    "Thought: I now know the final answer\n",
    "Final Answer: the final answer to the original input question\n",
    "\n",
    "Question: {input}\n",
    "Thought: {agent_scratchpad}\"\"\"\n",
    "```"
   ]
  },
  {
   "cell_type": "markdown",
   "id": "d030e600-126a-49ba-ab8e-86d14a3470ac",
   "metadata": {},
   "source": [
    "### plan-and-execute"
   ]
  },
  {
   "cell_type": "markdown",
   "id": "426fff63-7d29-4890-8765-217898356973",
   "metadata": {},
   "source": [
    "```python\n",
    "PLANNER_PROMPT = \"\"\"You are a task planning assistant. Given a task, create a detailed plan.\n",
    "\n",
    "Task: {input}\n",
    "\n",
    "Create a plan with the following format:\n",
    "1. First step\n",
    "2. Second step\n",
    "...\n",
    "\n",
    "Plan:\"\"\"\n",
    "\n",
    "EXECUTOR_PROMPT = \"\"\"You are a task executor. Follow the plan and execute each step using available tools:\n",
    "\n",
    "{tools}\n",
    "\n",
    "Plan:\n",
    "{plan}\n",
    "\n",
    "Current step: {current_step}\n",
    "Previous results: {previous_results}\n",
    "\n",
    "Use the following format:\n",
    "Thought: think about the current step\n",
    "Action: the action to take\n",
    "Action Input: the input for the action\"\"\"\n",
    "```"
   ]
  }
 ],
 "metadata": {
  "kernelspec": {
   "display_name": "Python 3 (ipykernel)",
   "language": "python",
   "name": "python3"
  },
  "language_info": {
   "codemirror_mode": {
    "name": "ipython",
    "version": 3
   },
   "file_extension": ".py",
   "mimetype": "text/x-python",
   "name": "python",
   "nbconvert_exporter": "python",
   "pygments_lexer": "ipython3",
   "version": "3.13.5"
  }
 },
 "nbformat": 4,
 "nbformat_minor": 5
}
