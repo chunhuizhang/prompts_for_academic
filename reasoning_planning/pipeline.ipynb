{
 "cells": [
  {
   "cell_type": "markdown",
   "id": "b3e0b111-c7de-4af5-a7f9-116beb433478",
   "metadata": {},
   "source": [
    "- 用户意图识别\n",
    "- https://medium.com/data-science/creating-task-oriented-dialog-systems-with-langgraph-and-langchain-fada6c9c4983\n",
    "    - https://langchain-ai.github.io/langgraph/tutorials/chatbots/information-gather-prompting/"
   ]
  }
 ],
 "metadata": {
  "kernelspec": {
   "display_name": "torch",
   "language": "python",
   "name": "verl"
  },
  "language_info": {
   "codemirror_mode": {
    "name": "ipython",
    "version": 3
   },
   "file_extension": ".py",
   "mimetype": "text/x-python",
   "name": "python",
   "nbconvert_exporter": "python",
   "pygments_lexer": "ipython3",
   "version": "3.10.0"
  }
 },
 "nbformat": 4,
 "nbformat_minor": 5
}
