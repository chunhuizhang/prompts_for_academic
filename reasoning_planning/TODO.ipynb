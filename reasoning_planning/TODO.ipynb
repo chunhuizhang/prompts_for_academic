{
 "cells": [
  {
   "cell_type": "markdown",
   "id": "f8f62f62-e6de-4663-bde5-435d9d62b42c",
   "metadata": {},
   "source": [
    "- cursor planning with TODOs\n",
    "    - https://docs.cursor.com/en/agent/planning\n",
    "    - `todo.md`\n",
    "- 随着交互变长，永远记得 llm 要做什么，在做什么"
   ]
  },
  {
   "cell_type": "markdown",
   "id": "3daaafc7-eae6-441a-ba70-c219f9bd6e39",
   "metadata": {},
   "source": [
    "### TODO pipeline"
   ]
  },
  {
   "cell_type": "markdown",
   "id": "98e5d46c-ad8f-4bb7-ab24-e646481d77a3",
   "metadata": {},
   "source": [
    "- system prompt：定义执行细节\n",
    "    - 任务分解\n",
    "    - 记录任务清单（todo）\n",
    "    - 按清单执行\n",
    "    - 更新任务清单（标记已完成，或者中间步骤失败后重新规划）\n",
    "- user：complex query\n",
    "- 比如一系列 tool use （记录 todo 也是一种 tool）\n",
    "- ...\n",
    "- 注意始终将更新后的任务清单置于最底部（也就是最新的）chat messages\n",
    "    - 一头（system prompt）一尾（updated todo）：尤其适用于 llm；"
   ]
  }
 ],
 "metadata": {
  "kernelspec": {
   "display_name": "torch",
   "language": "python",
   "name": "verl"
  },
  "language_info": {
   "codemirror_mode": {
    "name": "ipython",
    "version": 3
   },
   "file_extension": ".py",
   "mimetype": "text/x-python",
   "name": "python",
   "nbconvert_exporter": "python",
   "pygments_lexer": "ipython3",
   "version": "3.10.0"
  }
 },
 "nbformat": 4,
 "nbformat_minor": 5
}
