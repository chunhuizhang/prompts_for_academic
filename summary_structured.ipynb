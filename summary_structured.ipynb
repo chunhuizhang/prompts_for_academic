{
 "cells": [
  {
   "cell_type": "markdown",
   "id": "25e62971-364a-4d99-86e9-0d44ad8eae0e",
   "metadata": {},
   "source": [
    "- audionotes：https://github.com/harry0703/AudioNotes\n",
    "\n",
    "```\n",
    "messages = [\n",
    "    {\"role\": \"system\", \"content\": \"你是一名笔记整理专家，根据用户提供的内容，整理出一份内容详尽的结构化的笔记\"},\n",
    "    {\"role\": \"user\", \"content\": text},\n",
    "]\n",
    "```"
   ]
  }
 ],
 "metadata": {
  "kernelspec": {
   "display_name": "Python 3 (ipykernel)",
   "language": "python",
   "name": "python3"
  },
  "language_info": {
   "codemirror_mode": {
    "name": "ipython",
    "version": 3
   },
   "file_extension": ".py",
   "mimetype": "text/x-python",
   "name": "python",
   "nbconvert_exporter": "python",
   "pygments_lexer": "ipython3",
   "version": "3.10.0"
  }
 },
 "nbformat": 4,
 "nbformat_minor": 5
}
