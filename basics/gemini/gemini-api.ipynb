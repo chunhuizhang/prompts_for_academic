{
 "cells": [
  {
   "cell_type": "markdown",
   "id": "a5bab600-1d8c-41f1-838f-b4aa279c6ae2",
   "metadata": {},
   "source": [
    "- tier1（非 free tier）api\n",
    "    - 账户绑定信用卡后，aistudio 申请的 api 就自动是 tier1 的，\n",
    "    - gemini 的 api 费用是后付费的，像信用卡消费一样；\n",
    "- 多模态输入 tokens 计数\n",
    "    - https://geminibyexample.com/027-calculate-input-tokens/\n",
    "        - 对于尺寸小于或等于 384x384 像素的图片：计为 258 个 tokens。\n",
    "            - 258 = 16\\*16 + 2 (16\\*16 为一个 patch, 一个 image token，384/16)\n",
    "        - 对于尺寸大于 384x384 像素的图片：图片会被分割成多个 768x768 像素的图块，每个图块计为 258 个 tokens。"
   ]
  }
 ],
 "metadata": {
  "kernelspec": {
   "display_name": "torch",
   "language": "python",
   "name": "verl"
  },
  "language_info": {
   "codemirror_mode": {
    "name": "ipython",
    "version": 3
   },
   "file_extension": ".py",
   "mimetype": "text/x-python",
   "name": "python",
   "nbconvert_exporter": "python",
   "pygments_lexer": "ipython3",
   "version": "3.10.0"
  }
 },
 "nbformat": 4,
 "nbformat_minor": 5
}
