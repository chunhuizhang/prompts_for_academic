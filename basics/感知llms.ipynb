{
 "cells": [
  {
   "cell_type": "markdown",
   "id": "a49bdd0e-31f8-402c-b960-2615bb89b064",
   "metadata": {},
   "source": [
    "- 前端\n",
    "    - 模型更熟的是 React，而不是 vue？\n",
    "- coding\n",
    "    - claude 更适合框架流程代码开发；\n",
    "    - gemini 更适合（小范围）算法部分；"
   ]
  }
 ],
 "metadata": {
  "kernelspec": {
   "display_name": "Python 3 (ipykernel)",
   "language": "python",
   "name": "python3"
  },
  "language_info": {
   "codemirror_mode": {
    "name": "ipython",
    "version": 3
   },
   "file_extension": ".py",
   "mimetype": "text/x-python",
   "name": "python",
   "nbconvert_exporter": "python",
   "pygments_lexer": "ipython3",
   "version": "3.10.0"
  }
 },
 "nbformat": 4,
 "nbformat_minor": 5
}
