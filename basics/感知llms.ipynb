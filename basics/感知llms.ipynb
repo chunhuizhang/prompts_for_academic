{
 "cells": [
  {
   "cell_type": "markdown",
   "id": "873f8a0d-bab7-45e0-ba9a-a65348651dc8",
   "metadata": {},
   "source": [
    "- 最重要的两个能力\n",
    "    - reasoning matters：真正智能的体现\n",
    "        - 没有 reasoning 就不会有 planning\n",
    "        - planning 的一个具象化：agent 在解决复杂问题时，先列 todo\n",
    "    - long context window matters\n",
    "        - https://docs.cursor.com/en/models#context-window-sizes"
   ]
  },
  {
   "cell_type": "markdown",
   "id": "e32f4382-02fb-4bc0-a896-f9286cb5ae13",
   "metadata": {},
   "source": [
    "- 感知模型的能力即是扬长避短；\n",
    "    - 如何避短：external tools/mcps ..."
   ]
  },
  {
   "cell_type": "markdown",
   "id": "a49bdd0e-31f8-402c-b960-2615bb89b064",
   "metadata": {},
   "source": [
    "- 前端\n",
    "    - 模型更熟的是 React，而不是 vue？\n",
    "- coding\n",
    "    - claude 更适合框架流程代码开发；\n",
    "    - gemini 更适合（小范围）算法部分；"
   ]
  }
 ],
 "metadata": {
  "kernelspec": {
   "display_name": "Python 3 (ipykernel)",
   "language": "python",
   "name": "python3"
  },
  "language_info": {
   "codemirror_mode": {
    "name": "ipython",
    "version": 3
   },
   "file_extension": ".py",
   "mimetype": "text/x-python",
   "name": "python",
   "nbconvert_exporter": "python",
   "pygments_lexer": "ipython3",
   "version": "3.13.5"
  }
 },
 "nbformat": 4,
 "nbformat_minor": 5
}
