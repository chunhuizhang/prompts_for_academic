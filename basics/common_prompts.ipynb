{
 "cells": [
  {
   "cell_type": "markdown",
   "id": "342bca11-6af5-411e-a82f-2f59d8badb3e",
   "metadata": {},
   "source": [
    "- 大写=>强调\n",
    "    - `MAKE SURE`\n",
    "    - `Your output should JUST be the boolean true or false`"
   ]
  },
  {
   "cell_type": "markdown",
   "id": "294dee4b-7747-48fe-966c-f66f67f15355",
   "metadata": {},
   "source": [
    "### evaluation"
   ]
  },
  {
   "cell_type": "markdown",
   "id": "683b530e-d4d6-49d2-b51d-5543514b799e",
   "metadata": {},
   "source": [
    "```\n",
    "I need you to evaluate a solution to a given math problem and tell me if it makes sense:\n",
    "\n",
    "problem:\n",
    "\n",
    "solution:\n",
    "\n",
    "```"
   ]
  }
 ],
 "metadata": {
  "kernelspec": {
   "display_name": "Python 3 (ipykernel)",
   "language": "python",
   "name": "python3"
  },
  "language_info": {
   "codemirror_mode": {
    "name": "ipython",
    "version": 3
   },
   "file_extension": ".py",
   "mimetype": "text/x-python",
   "name": "python",
   "nbconvert_exporter": "python",
   "pygments_lexer": "ipython3",
   "version": "3.13.5"
  }
 },
 "nbformat": 4,
 "nbformat_minor": 5
}
