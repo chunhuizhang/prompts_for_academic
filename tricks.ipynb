{
 "cells": [
  {
   "cell_type": "markdown",
   "id": "cdc99d99-3479-40c8-9372-e20e08d54a06",
   "metadata": {},
   "source": [
    "#### 大写=>强调"
   ]
  },
  {
   "cell_type": "markdown",
   "id": "342bca11-6af5-411e-a82f-2f59d8badb3e",
   "metadata": {},
   "source": [
    "- `MAKE SURE`\n",
    "- `Your output should JUST be the boolean true or false`"
   ]
  }
 ],
 "metadata": {
  "kernelspec": {
   "display_name": "Python 3 (ipykernel)",
   "language": "python",
   "name": "python3"
  },
  "language_info": {
   "codemirror_mode": {
    "name": "ipython",
    "version": 3
   },
   "file_extension": ".py",
   "mimetype": "text/x-python",
   "name": "python",
   "nbconvert_exporter": "python",
   "pygments_lexer": "ipython3",
   "version": "3.10.0"
  }
 },
 "nbformat": 4,
 "nbformat_minor": 5
}
