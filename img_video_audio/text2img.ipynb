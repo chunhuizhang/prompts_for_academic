{
 "cells": [
  {
   "cell_type": "markdown",
   "id": "574a5b9c-15a1-46f6-b53a-3b917a5a7bae",
   "metadata": {},
   "source": [
    "- style\n",
    "    - stylized（风格化的）, realistic（写时的）\n",
    "- prompts examples\n",
    "    - `remove the background,put the man in space`\n",
    "        - 去背景保持主体\n",
    "    - \"show me this scene from behind the subjects. keep the details and the lighting identical\"\n",
    "        - 切到后面；\n",
    "    - 多图：\n",
    "        - put the baseball hat on the woman\n",
    "    - 生成多图\n",
    "        - `create a 4-panel montage showing sporting moments. use the style of the reference image`\n",
    "            - 给出参考风格（reference image）\n",
    "            - 4-panel montage：四格漫画/四格拼贴画\n",
    "                - \"montage\" 可以翻译成 \"蒙太奇\"，但这通常用于电影或视频剪辑，指的是一系列快速切换的短镜头。"
   ]
  },
  {
   "cell_type": "markdown",
   "id": "bdf23b83-77c3-4340-bf51-f55aa9e85a42",
   "metadata": {},
   "source": [
    "### nano-banana"
   ]
  },
  {
   "cell_type": "markdown",
   "id": "31b03f31-f7d5-4684-b4a9-996494a0cb98",
   "metadata": {},
   "source": [
    "http://github.com/JimmyLv/awesome-nano-banana\n",
    "- 官方blog\n",
    "    - https://developers.googleblog.com/en/how-to-prompt-gemini-2-5-flash-image-generation-for-the-best-results/\n",
    "- image editing: 就像 long context model 精准的 attention 一样，这里考验的是其余部分的一致性；\n",
    "    - （人物）角色一致性（character consistency），maintain likeness across different contexts\n",
    "- image restoration: 图像修复\n",
    "- 技术上\n",
    "    - interleave generation"
   ]
  },
  {
   "cell_type": "markdown",
   "id": "701ff554-5edd-4cbb-b025-ba3b151f5555",
   "metadata": {},
   "source": [
    "#### 典型应用"
   ]
  },
  {
   "cell_type": "markdown",
   "id": "6a1b83df-997d-4a2c-848c-05083dbe5bd1",
   "metadata": {},
   "source": [
    "- 3D手办\n",
    "```\n",
    "Create a 1/7 scale commercialized figure of the character in the illustration, in a realistic style and environment.\n",
    "Place the figure on a computer desk, using a circular transparent acrylic base without any text.\n",
    "On the computer screen, display the ZBrush modeling process of the figure. Next to the computer screen, place a BANDAI-style toy packaging box printed with the original artwork.\n",
    "```\n",
    "- 黑白老照片上色及修复\n",
    "```\n",
    "Restore and colorize this image. Remove any scratches or imperfections.\n",
    "Change to modern photo style, vibrant colors.\n",
    "Special attention should be paid to maintaining the facial shape and facial features of the characters unchanged.\n",
    "```"
   ]
  },
  {
   "cell_type": "markdown",
   "id": "85d60bfd-a215-444b-89c4-88674931557a",
   "metadata": {},
   "source": [
    "### misc"
   ]
  },
  {
   "cell_type": "markdown",
   "id": "2b16df5a-800f-4d11-8aaf-0d7ff46745fe",
   "metadata": {},
   "source": [
    "- 三幕式（需要垫图）\n",
    "\n",
    "```\n",
    "将图片编辑为三宫格胶片质感艺术写真，整体比例为 3:4。画面场景为海边沙滩、傍晚天空，氛围静谧、带有微风。人物与面部保持原样。\n",
    "第一宫格（近景）：上半身背影，风吹起头发，发丝略显凌乱，夕阳余晖洒在发梢。画面底部居中添加中英字幕：\n",
    "> 人工智能的未来是什么？\n",
    "What is the future of AI?\n",
    "第二宫格（中景）：人物手中握着一束花，侧身站立在海边，凝视花束。海风拂动发丝与衣角。字幕底部居中：\n",
    "> 你不用告诉我\n",
    "You don't have to tell me\n",
    "第三宫格（大特写）：人物面部位于画面偏左，风中发丝轻扬，神情宁静而坚定。字幕底部居中：\n",
    "> 我先会裁掉你\n",
    "I’ll lay you off first\n",
    "整体色调冷冽通透，带有富士胶片的电影质感：轻度过度曝光，带来梦幻的柔光感；保留暗部细节，高光呈现自然的漫射光，无明显硬阴影；颗粒质感明显，画面略显粗粝；呈现出一种文艺、孤独且自我探索的氛围。\n",
    "```"
   ]
  }
 ],
 "metadata": {
  "kernelspec": {
   "display_name": "torch",
   "language": "python",
   "name": "verl"
  },
  "language_info": {
   "codemirror_mode": {
    "name": "ipython",
    "version": 3
   },
   "file_extension": ".py",
   "mimetype": "text/x-python",
   "name": "python",
   "nbconvert_exporter": "python",
   "pygments_lexer": "ipython3",
   "version": "3.10.0"
  }
 },
 "nbformat": 4,
 "nbformat_minor": 5
}
