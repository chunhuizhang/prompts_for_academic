{
 "cells": [
  {
   "cell_type": "markdown",
   "id": "0345e8c5-bf61-4f20-881c-eb52ea496b05",
   "metadata": {},
   "source": [
    "- https://x.com/op7418/status/1949037525697441995\n",
    "- 用白板应用（Figma 等）在图片上标注内容（1,2,3,... 标注顺序）\n",
    "- 图片上传 Gemini 并输入如下的提示词\n",
    "    - Immediately delete the instruction with white text on a black background in the first frame and execute in order."
   ]
  },
  {
   "cell_type": "markdown",
   "id": "89170de8-e3eb-494f-8e73-101b21deddf3",
   "metadata": {},
   "source": [
    "### 原生多模态"
   ]
  },
  {
   "cell_type": "markdown",
   "id": "5432b783-6307-4a5d-bde7-1e01bfa2e8f3",
   "metadata": {},
   "source": [
    "- 图片\n",
    "    - 图片不想文字有固定的词表，是一种 soft visual tokens\n",
    "    - 既使分patch之后的token，视觉token不等同于视觉单词。一个视觉 Token 并不是一个固定的、信息量有限的单元，而是一个信息密度极高的高维向量。\n",
    "- pdf 当做图片处理？\n",
    "    - Gemini 最多支持 1,000 个文档页面。 每个文档页面相当于 258 个词元。\n",
    "        - While there are no specific limits to the number of pixels in a document besides the model's context window, larger pages are scaled down to a maximum resolution of 3072x3072 while preserving their original aspect ratio, while smaller pages are scaled up to 768x768 pixels. There is no cost reduction for pages at lower sizes, other than bandwidth, or performance improvement for pages at higher resolution.\n",
    "            - 更高分辨率的文本，对应更大的 patch，以获得固定的 tokens 数量表示\n",
    "        - 对于一页 pdf，显然其中的文字可能远多于258个tokens，这里也可以从侧面说明一个问题，一个视觉token，绝不等于一个视觉文字，视觉 soft token 编码了远超文字 token 的信息；\n",
    "    - https://ai.google.dev/gemini-api/docs/document-processing?hl=zh-cn"
   ]
  },
  {
   "cell_type": "markdown",
   "id": "9a6e46f1-6f27-4faa-86c7-724236c7e374",
   "metadata": {},
   "source": [
    "### gemini 全家桶"
   ]
  },
  {
   "cell_type": "markdown",
   "id": "47428ae1-3c1a-42b1-bf3b-7d824b990a4d",
   "metadata": {},
   "source": [
    "> 原生多模态长上下文\n",
    "- 对话式图像分割\n",
    "    - https://developers.googleblog.com/en/conversational-image-segmentation-gemini-2-5/\n",
    "- image edit\n",
    "    - https://developers.googleblog.com/en/introducing-gemini-2-5-flash-image/"
   ]
  }
 ],
 "metadata": {
  "kernelspec": {
   "display_name": "torch",
   "language": "python",
   "name": "verl"
  },
  "language_info": {
   "codemirror_mode": {
    "name": "ipython",
    "version": 3
   },
   "file_extension": ".py",
   "mimetype": "text/x-python",
   "name": "python",
   "nbconvert_exporter": "python",
   "pygments_lexer": "ipython3",
   "version": "3.10.0"
  }
 },
 "nbformat": 4,
 "nbformat_minor": 5
}
