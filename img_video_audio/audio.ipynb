{
 "cells": [
  {
   "cell_type": "markdown",
   "id": "3dad0ff6-8faf-499d-9c38-80730e30d3d0",
   "metadata": {},
   "source": [
    "- clone\n",
    "    - https://github.com/Enemyx-net/VibeVoice-ComfyUI\n",
    "        - 微软新出的VibeVoice-Large (7B) 非常大的亮点是生成的语音时长最长45分钟,如果是VibeVoice-1.5B,最长90分钟,但我对比了下,1.5B生成效果还是要差些"
   ]
  }
 ],
 "metadata": {
  "kernelspec": {
   "display_name": "torch",
   "language": "python",
   "name": "verl"
  },
  "language_info": {
   "codemirror_mode": {
    "name": "ipython",
    "version": 3
   },
   "file_extension": ".py",
   "mimetype": "text/x-python",
   "name": "python",
   "nbconvert_exporter": "python",
   "pygments_lexer": "ipython3",
   "version": "3.10.0"
  }
 },
 "nbformat": 4,
 "nbformat_minor": 5
}
