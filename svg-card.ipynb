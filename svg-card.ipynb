{
 "cells": [
  {
   "cell_type": "markdown",
   "id": "d457cfc1-661c-4e1e-b42e-6bd38a03024b",
   "metadata": {},
   "source": [
    "- 李继刚\n",
    "    - 立体主义"
   ]
  }
 ],
 "metadata": {
  "kernelspec": {
   "display_name": "Python 3 (ipykernel)",
   "language": "python",
   "name": "python3"
  },
  "language_info": {
   "codemirror_mode": {
    "name": "ipython",
    "version": 3
   },
   "file_extension": ".py",
   "mimetype": "text/x-python",
   "name": "python",
   "nbconvert_exporter": "python",
   "pygments_lexer": "ipython3",
   "version": "3.10.13"
  }
 },
 "nbformat": 4,
 "nbformat_minor": 5
}
