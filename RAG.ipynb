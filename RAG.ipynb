{
 "cells": [
  {
   "cell_type": "markdown",
   "id": "6c2466aa-dc4d-4ac9-a46e-a55957a64fef",
   "metadata": {},
   "source": [
    "```\n",
    "\"\"\"<|im_start|>system You found the following content by searching through documentation. Use only this content to construct your response. {content}<|im_end|>\n",
    "<|im_start|>user First, determine if the content found is sufficient to resolve the issue. Second, respond with a JSON in the format:\n",
    "{\n",
    "\"content_contains_answer\": boolean, // true or false. Whether the information in the content is sufficient to resolve the issue.\n",
    "\"justification\": string // Why you believe the content you found is or is not sufficient to resolve the issue.\n",
    "}\n",
    "The inquiry: {inquiry}<|im_end|><|im_start|>assistant {\n",
    "\"content_contains_answer\":<|im_end|>\"\"\"\n",
    "```"
   ]
  },
  {
   "cell_type": "markdown",
   "id": "d0fdab69-fba1-4172-b902-3b8eb56ede55",
   "metadata": {},
   "source": [
    "```\n",
    "# JUST\n",
    "PROMPT = \"\"\"You retrieved this article: {article}. The question is: {question}.\n",
    "Before even answering the question, consider whether you have sufficient information in the article to answer the question fully.\n",
    "Your output should JUST be the boolean true or false, of if you have sufficient information in the article to answer the question.\n",
    "Respond with just one word, the boolean true or false. You must output the word 'True', or the word 'False', nothing else.\n",
    "\"\"\"\n",
    "```"
   ]
  }
 ],
 "metadata": {
  "kernelspec": {
   "display_name": "Python 3 (ipykernel)",
   "language": "python",
   "name": "python3"
  },
  "language_info": {
   "codemirror_mode": {
    "name": "ipython",
    "version": 3
   },
   "file_extension": ".py",
   "mimetype": "text/x-python",
   "name": "python",
   "nbconvert_exporter": "python",
   "pygments_lexer": "ipython3",
   "version": "3.10.0"
  }
 },
 "nbformat": 4,
 "nbformat_minor": 5
}
