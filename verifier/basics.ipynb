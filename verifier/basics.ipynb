{
 "cells": [
  {
   "cell_type": "markdown",
   "id": "919d0a26-07ed-41c0-93e2-0abf9ee09d88",
   "metadata": {},
   "source": [
    "- evaluation feedback vs. instruction feedback\n",
    "    - evaluation feedback: 0/1, true/false"
   ]
  }
 ],
 "metadata": {
  "kernelspec": {
   "display_name": "torch",
   "language": "python",
   "name": "verl"
  },
  "language_info": {
   "codemirror_mode": {
    "name": "ipython",
    "version": 3
   },
   "file_extension": ".py",
   "mimetype": "text/x-python",
   "name": "python",
   "nbconvert_exporter": "python",
   "pygments_lexer": "ipython3",
   "version": "3.10.0"
  }
 },
 "nbformat": 4,
 "nbformat_minor": 5
}
