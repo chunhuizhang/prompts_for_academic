{
 "cells": [
  {
   "cell_type": "code",
   "execution_count": 3,
   "id": "d504419f-51fb-41ce-8ac7-18026e6c33fe",
   "metadata": {},
   "outputs": [],
   "source": [
    "from IPython.display import Video"
   ]
  },
  {
   "cell_type": "markdown",
   "id": "efd6e188-aff9-49b7-b121-d7cfaf87eda9",
   "metadata": {},
   "source": [
    "- https://cline.bot/blog/why-cline-doesnt-index-your-codebase-and-why-thats-a-good-thing\n",
    "    - rag（isolated points）=> agentic exploration\n",
    "    - No index or embeddings. Just intelligent exploration, building context by following the natural structure of your code."
   ]
  },
  {
   "cell_type": "code",
   "execution_count": 4,
   "id": "4cb7903c-5107-43af-a809-959de2e34d6f",
   "metadata": {},
   "outputs": [
    {
     "data": {
      "text/html": [
       "<video src=\"https://cline.ghost.io/content/media/2025/05/agentic-exploration.mp4\" controls  width=\"400\" >\n",
       "      Your browser does not support the <code>video</code> element.\n",
       "    </video>"
      ],
      "text/plain": [
       "<IPython.core.display.Video object>"
      ]
     },
     "execution_count": 4,
     "metadata": {},
     "output_type": "execute_result"
    }
   ],
   "source": [
    "Video(url='https://cline.ghost.io/content/media/2025/05/agentic-exploration.mp4', width=400)"
   ]
  },
  {
   "cell_type": "code",
   "execution_count": null,
   "id": "2570d0b7-4efd-402d-89d6-0353de1ba9bf",
   "metadata": {},
   "outputs": [],
   "source": []
  }
 ],
 "metadata": {
  "kernelspec": {
   "display_name": "Python 3 (ipykernel)",
   "language": "python",
   "name": "python3"
  },
  "language_info": {
   "codemirror_mode": {
    "name": "ipython",
    "version": 3
   },
   "file_extension": ".py",
   "mimetype": "text/x-python",
   "name": "python",
   "nbconvert_exporter": "python",
   "pygments_lexer": "ipython3",
   "version": "3.10.0"
  }
 },
 "nbformat": 4,
 "nbformat_minor": 5
}
