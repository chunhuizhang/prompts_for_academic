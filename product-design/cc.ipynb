{
 "cells": [
  {
   "cell_type": "markdown",
   "id": "966ebed8-d5ff-4a5e-aadd-3ed775964d48",
   "metadata": {},
   "source": [
    "- https://minusx.ai/blog/decoding-claude-code/"
   ]
  }
 ],
 "metadata": {
  "kernelspec": {
   "display_name": "torch",
   "language": "python",
   "name": "verl"
  },
  "language_info": {
   "codemirror_mode": {
    "name": "ipython",
    "version": 3
   },
   "file_extension": ".py",
   "mimetype": "text/x-python",
   "name": "python",
   "nbconvert_exporter": "python",
   "pygments_lexer": "ipython3",
   "version": "3.10.0"
  }
 },
 "nbformat": 4,
 "nbformat_minor": 5
}
